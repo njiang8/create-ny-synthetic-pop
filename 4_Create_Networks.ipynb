{
 "cells": [
  {
   "cell_type": "markdown",
   "metadata": {},
   "source": [
    "# Step 4:\n",
    "# Create Networks for all Individuals Based on Work, Home and Education"
   ]
  },
  {
   "cell_type": "code",
   "execution_count": null,
   "metadata": {},
   "outputs": [],
   "source": [
    "import networkx as nx\n",
    "import pandas as pd\n",
    "import numpy as np\n",
    "import matplotlib.pyplot as plt\n",
    "import collections\n",
    "import csv"
   ]
  },
  {
   "cell_type": "markdown",
   "metadata": {},
   "source": [
    "## 1, Load Data"
   ]
  },
  {
   "cell_type": "code",
   "execution_count": null,
   "metadata": {},
   "outputs": [],
   "source": [
    "#Full pop\n",
    "fpop = pd.read_csv('../results/Erie_pop_id.csv').iloc[:,1:]\n",
    "fpop.head()"
   ]
  },
  {
   "cell_type": "code",
   "execution_count": null,
   "metadata": {},
   "outputs": [],
   "source": [
    "len(fpop)"
   ]
  },
  {
   "cell_type": "code",
   "execution_count": null,
   "metadata": {},
   "outputs": [],
   "source": [
    "fpop = fpop.set_index('id')\n",
    "fpop.head()"
   ]
  },
  {
   "cell_type": "markdown",
   "metadata": {},
   "source": [
    "## 2, Functions Creating Different types of Networks "
   ]
  },
  {
   "cell_type": "code",
   "execution_count": null,
   "metadata": {},
   "outputs": [],
   "source": [
    "def create_edges(x, g):\n",
    "    if len(x) <= 5:\n",
    "        sw = nx.complete_graph(len(x))\n",
    "    else:\n",
    "        sw = nx.newman_watts_strogatz_graph(len(x), 4, 0.3)\n",
    "    sw = nx.relabel_nodes(sw, dict(zip(sw.nodes(), x.index.values)))# what's this line for?\n",
    "    g.add_edges_from(sw.edges())"
   ]
  },
  {
   "cell_type": "code",
   "execution_count": null,
   "metadata": {},
   "outputs": [],
   "source": [
    "def create_network(people, type):\n",
    "    g = nx.Graph()\n",
    "    g.add_nodes_from(people.index)\n",
    "    if type == \"school\":\n",
    "        grouped = people[people.age < 18].groupby('wp')\n",
    "        grouped.apply(lambda x: create_edges(x, g))\n",
    "    if type == 'work':\n",
    "        grouped = people[people.age >= 18].groupby('wp')\n",
    "        grouped.apply(lambda x: create_edges(x, g))\n",
    "    if type == 'hhold':\n",
    "        grouped = people.groupby('hhold')\n",
    "        grouped.apply(lambda x: create_edges(x, g))\n",
    "    return g"
   ]
  },
  {
   "cell_type": "code",
   "execution_count": null,
   "metadata": {},
   "outputs": [],
   "source": [
    "def get_neighbors(x, g):\n",
    "    return [n for n in g.neighbors(x)]\n",
    "\n",
    "def to_csv(g, output_name):\n",
    "    col1 = list(pop.index)\n",
    "    col2 = pop.index.map(lambda x: get_neighbors(x, g))\n",
    "    col2 = list(col2)\n",
    "    for i in range(len(col2)):\n",
    "        col2[i] = [col1[i]] + col2[i]\n",
    "    with open(output_name + '.csv', 'w') as f:\n",
    "        writer = csv.writer(f)\n",
    "        writer.writerows(col2)"
   ]
  },
  {
   "cell_type": "markdown",
   "metadata": {
    "tags": []
   },
   "source": [
    "### 2.1 Daycare Network"
   ]
  },
  {
   "cell_type": "code",
   "execution_count": null,
   "metadata": {},
   "outputs": [],
   "source": [
    "#Get daycare popualtion\n",
    "dk = fpop[fpop.wp.str.contains('d')].copy()\n",
    "print(len(dk))"
   ]
  },
  {
   "cell_type": "code",
   "execution_count": null,
   "metadata": {},
   "outputs": [],
   "source": [
    "#### Create Daycare Network\n",
    "print(\"creating daycare network...\")\n",
    "daycare = create_network(dk, \"school\")\n",
    "print(\"the number of edges are: \" + str(len(daycare.edges())))\n",
    "print(\"done creating school network, writing to school graph\")"
   ]
  },
  {
   "cell_type": "code",
   "execution_count": null,
   "metadata": {},
   "outputs": [],
   "source": [
    "#Save to csv\n",
    "print(\"converting school network to .csv\")\n",
    "pop = dk\n",
    "to_csv(daycare, \"../results/daycare_nw\")\n",
    "print(\"Done!\")"
   ]
  },
  {
   "cell_type": "code",
   "execution_count": null,
   "metadata": {},
   "outputs": [],
   "source": [
    "#Degree of Distribution\n",
    "degree_sequence = sorted([d for n, d in daycare.degree()], reverse=True)  # degree sequence\n",
    "#print (\"Degree sequence\", degree_sequence)\n",
    "degreeCount = collections.Counter(degree_sequence)\n",
    "deg, cnt = zip(*degreeCount.items())"
   ]
  },
  {
   "cell_type": "code",
   "execution_count": null,
   "metadata": {},
   "outputs": [],
   "source": [
    "figure, ax = plt.subplots(figsize=(12, 8))\n",
    "\n",
    "plt.bar(deg, cnt, width=0.80, color='#43a2ca')\n",
    "plt.title(\"Daycare Network Degree Histogram\", fontsize = 20, fontname = \"Arial\")\n",
    "plt.ylabel(\"Frequency\", fontsize = 16, fontname = \"Arial\")\n",
    "plt.xlabel(\"Degree\", fontsize = 16, fontname = \"Arial\")\n",
    "\n",
    "ax.set_xticks([d for d in deg])\n",
    "ax.set_xticklabels(deg)\n",
    "\n",
    "rects = ax.patches\n",
    "\n",
    "# For each bar: Place a label\n",
    "for rect in rects:\n",
    "    # Get X and Y placement of label from rect.\n",
    "    y_value = rect.get_height()\n",
    "    x_value = rect.get_x() + rect.get_width() / 2\n",
    "\n",
    "    # Number of points between bar and label. Change to your liking.\n",
    "    space = 5\n",
    "    # Vertical alignment for positive values\n",
    "    va = 'bottom'\n",
    "\n",
    "    # If value of bar is negative: Place label below bar\n",
    "    if y_value < 0:\n",
    "        # Invert space to place label below\n",
    "        space *= -1\n",
    "        # Vertically align label at top\n",
    "        va = 'top'\n",
    "\n",
    "    # Use Y value as label and format number with one decimal place\n",
    "    label = \"{:.1f}\".format(y_value)\n",
    "\n",
    "    # Create annotation\n",
    "    plt.annotate(\n",
    "        label,                      # Use `label` as label\n",
    "        (x_value, y_value),         # Place label at end of the bar\n",
    "        xytext=(0, space),          # Vertically shift label by `space`\n",
    "        textcoords=\"offset points\", # Interpret `xytext` as offset in points\n",
    "        ha='center',                # Horizontally center label\n",
    "        va=va)                      # Vertically align label differently for\n",
    "                                    # positive and negative values."
   ]
  },
  {
   "cell_type": "markdown",
   "metadata": {},
   "source": [
    "### 2.2, School Network"
   ]
  },
  {
   "cell_type": "code",
   "execution_count": null,
   "metadata": {},
   "outputs": [],
   "source": [
    "#School Population\n",
    "#kids = fpop[(fpop.age <=17) & (fpop.age >=4)].copy()\n",
    "kids = fpop[fpop.wp.str.contains('s')].copy()\n",
    "kids.shape"
   ]
  },
  {
   "cell_type": "code",
   "execution_count": null,
   "metadata": {},
   "outputs": [],
   "source": [
    "print(\"creating school network...\")\n",
    "school = create_network(kids, \"school\")\n",
    "print(\"the number of edges are: \" + str(len(school.edges())))\n",
    "print(\"done creating school network, writing to school graph\")"
   ]
  },
  {
   "cell_type": "code",
   "execution_count": null,
   "metadata": {},
   "outputs": [],
   "source": [
    "#Save to csv\n",
    "print(\"converting school network to .csv\")\n",
    "pop = kids\n",
    "to_csv(school, \"../results/school_nw\")\n",
    "print(\"Done!\")"
   ]
  },
  {
   "cell_type": "code",
   "execution_count": null,
   "metadata": {},
   "outputs": [],
   "source": [
    "#Not Run\n",
    "print('Saving 1...')\n",
    "nx.write_graphml(school, 'ERIE_Results/network/school/school.graphml')\n",
    "print('Saving 2...')\n",
    "nx.write_gexf(school, 'ERIE_Results/network/school/school.gexf')\n",
    "print('Saving 3...')\n",
    "nx.write_edgelist(school, 'ERIE_Results/network/school/school.edgelist')\n",
    "print('Done...')"
   ]
  },
  {
   "cell_type": "code",
   "execution_count": null,
   "metadata": {},
   "outputs": [],
   "source": [
    "degree_sequence = sorted([d for n, d in school.degree()], reverse=True)  # degree sequence\n",
    "#print (\"Degree sequence\", degree_sequence)\n",
    "degreeCount = collections.Counter(degree_sequence)\n",
    "deg, cnt = zip(*degreeCount.items())"
   ]
  },
  {
   "cell_type": "code",
   "execution_count": null,
   "metadata": {},
   "outputs": [],
   "source": [
    "figure, ax = plt.subplots(figsize=(12, 8))\n",
    "\n",
    "plt.bar(deg, cnt, width=0.80, color='#43a2ca')\n",
    "plt.title(\"School Network Degree Histogram\", fontsize = 20, fontname = \"Arial\")\n",
    "plt.ylabel(\"Frequency\", fontsize = 16, fontname = \"Arial\")\n",
    "plt.xlabel(\"Degree\", fontsize = 16, fontname = \"Arial\")\n",
    "\n",
    "ax.set_xticks([d for d in deg])\n",
    "ax.set_xticklabels(deg)\n",
    "\n",
    "rects = ax.patches\n",
    "\n",
    "# For each bar: Place a label\n",
    "for rect in rects:\n",
    "    # Get X and Y placement of label from rect.\n",
    "    y_value = rect.get_height()\n",
    "    x_value = rect.get_x() + rect.get_width() / 2\n",
    "\n",
    "    # Number of points between bar and label. Change to your liking.\n",
    "    space = 5\n",
    "    # Vertical alignment for positive values\n",
    "    va = 'bottom'\n",
    "\n",
    "    # If value of bar is negative: Place label below bar\n",
    "    if y_value < 0:\n",
    "        # Invert space to place label below\n",
    "        space *= -1\n",
    "        # Vertically align label at top\n",
    "        va = 'top'\n",
    "\n",
    "    # Use Y value as label and format number with one decimal place\n",
    "    label = \"{:.1f}\".format(y_value)\n",
    "\n",
    "    # Create annotation\n",
    "    plt.annotate(\n",
    "        label,                      # Use `label` as label\n",
    "        (x_value, y_value),         # Place label at end of the bar\n",
    "        xytext=(0, space),          # Vertically shift label by `space`\n",
    "        textcoords=\"offset points\", # Interpret `xytext` as offset in points\n",
    "        ha='center',                # Horizontally center label\n",
    "        va=va)                      # Vertically align label differently for\n",
    "                                    # positive and negative values."
   ]
  },
  {
   "cell_type": "markdown",
   "metadata": {},
   "source": [
    "### 2.3  Work Network, people work in the workplace"
   ]
  },
  {
   "cell_type": "code",
   "execution_count": null,
   "metadata": {},
   "outputs": [],
   "source": [
    "adults = fpop[fpop.age>=18].copy()"
   ]
  },
  {
   "cell_type": "code",
   "execution_count": null,
   "metadata": {},
   "outputs": [],
   "source": [
    "adults.shape"
   ]
  },
  {
   "cell_type": "code",
   "execution_count": null,
   "metadata": {},
   "outputs": [],
   "source": [
    "#select people\n",
    "ad_work = adults[adults.wp.str.contains(\"w\")]"
   ]
  },
  {
   "cell_type": "code",
   "execution_count": null,
   "metadata": {},
   "outputs": [],
   "source": [
    "#People Commute\n",
    "ad_work.shape"
   ]
  },
  {
   "cell_type": "code",
   "execution_count": null,
   "metadata": {},
   "outputs": [],
   "source": [
    "#Workplaces Networks\n",
    "print(\"Creating workplace network...\")\n",
    "work = create_network(ad_work, \"work\")\n",
    "print(\"The number of edges are: \" + str(len(work.edges())))\n",
    "print(\"Done creating workplace network, writing to work graph\")"
   ]
  },
  {
   "cell_type": "code",
   "execution_count": null,
   "metadata": {},
   "outputs": [],
   "source": [
    "nx.write_graphml(work, 'ERIE_Results/network/work/work.graphml')\n",
    "nx.write_gexf(work, 'ERIE_Results/network/work/work.gexf')\n",
    "nx.write_edgelist(work, 'ERIE_Results/network/work/work.edgelist')"
   ]
  },
  {
   "cell_type": "code",
   "execution_count": null,
   "metadata": {},
   "outputs": [],
   "source": [
    "print(\"converting workplace network to .csv\")\n",
    "pop = ad_work\n",
    "to_csv(work, \"../results/work_nw\")\n",
    "print(\"Done!\")"
   ]
  },
  {
   "cell_type": "code",
   "execution_count": null,
   "metadata": {},
   "outputs": [],
   "source": [
    "degree_sequence = sorted([d for n, d in work.degree()], reverse=True)  # degree sequence\n",
    "#print (\"Degree sequence\", degree_sequence)\n",
    "degreeCount = collections.Counter(degree_sequence)\n",
    "deg, cnt = zip(*degreeCount.items())"
   ]
  },
  {
   "cell_type": "code",
   "execution_count": null,
   "metadata": {},
   "outputs": [],
   "source": [
    "figure, ax = plt.subplots(figsize=(12, 8))\n",
    "\n",
    "plt.bar(deg, cnt, width=0.80, color='#43a2ca')\n",
    "plt.title(\"Workplaces Network Degree Histogram\", fontsize = 20, fontname = \"Arial\")\n",
    "plt.ylabel(\"Frequency\", fontsize = 16, fontname = \"Arial\")\n",
    "plt.xlabel(\"Degree\", fontsize = 16, fontname = \"Arial\")\n",
    "\n",
    "ax.set_xticks([d for d in deg])\n",
    "ax.set_xticklabels(deg)\n",
    "\n",
    "rects = ax.patches\n",
    "\n",
    "# For each bar: Place a label\n",
    "for rect in rects:\n",
    "    # Get X and Y placement of label from rect.\n",
    "    y_value = rect.get_height()\n",
    "    x_value = rect.get_x() + rect.get_width() / 2\n",
    "    # Number of points between bar and label. Change to your liking.\n",
    "    space = 5\n",
    "    # Vertical alignment for positive values\n",
    "    va = 'bottom'\n",
    "\n",
    "    # If value of bar is negative: Place label below bar\n",
    "    if y_value < 0:\n",
    "        # Invert space to place label below\n",
    "        space *= -1\n",
    "        # Vertically align label at top\n",
    "        va = 'top'\n",
    "\n",
    "    # Use Y value as label and format number with one decimal place\n",
    "    label = \"{:.1f}\".format(y_value)\n",
    "\n",
    "    # Create annotation\n",
    "    plt.annotate(\n",
    "        label,                      # Use `label` as label\n",
    "        (x_value, y_value),         # Place label at end of the bar\n",
    "        xytext=(0, space),          # Vertically shift label by `space`\n",
    "        textcoords=\"offset points\", # Interpret `xytext` as offset in points\n",
    "        ha='center',                # Horizontally center label\n",
    "        va=va)                      # Vertically align label differently for\n",
    "                                    # positive and negative values."
   ]
  },
  {
   "cell_type": "markdown",
   "metadata": {},
   "source": [
    "### 2.4 Household Network"
   ]
  },
  {
   "cell_type": "code",
   "execution_count": null,
   "metadata": {},
   "outputs": [],
   "source": [
    "fpop.shape"
   ]
  },
  {
   "cell_type": "code",
   "execution_count": null,
   "metadata": {},
   "outputs": [],
   "source": [
    "fpop.head()"
   ]
  },
  {
   "cell_type": "code",
   "execution_count": null,
   "metadata": {},
   "outputs": [],
   "source": [
    "print(\"creating hhold network...\")\n",
    "hhold = create_network(fpop, \"hhold\")\n",
    "print(\"the number of edges are: \" + str(len(hhold.edges())))\n",
    "print(\"Done creating school network, writing to hhold graph\")"
   ]
  },
  {
   "cell_type": "code",
   "execution_count": null,
   "metadata": {},
   "outputs": [],
   "source": [
    "print('S1..')\n",
    "nx.write_graphml(hhold, 'ERIE_Results/network/household/hhold.graphml')\n",
    "print('S2..')\n",
    "nx.write_gexf(hhold, 'ERIE_Results/network/household/hhold.gexf')\n",
    "print('S3..')\n",
    "nx.write_edgelist(hhold, 'ERIE_Results/network/household/hhold.edgelist')\n",
    "print(\"Done!\")"
   ]
  },
  {
   "cell_type": "code",
   "execution_count": null,
   "metadata": {},
   "outputs": [],
   "source": [
    "print(\"converting hhold network to .csv\")\n",
    "pop = fpop\n",
    "to_csv(hhold, \"../results/hhold_nw\")\n",
    "print(\"Done!\")"
   ]
  },
  {
   "cell_type": "code",
   "execution_count": null,
   "metadata": {},
   "outputs": [],
   "source": [
    "degree_sequence = sorted([d for n, d in hhold.degree()], reverse=True)  # degree sequence\n",
    "#print (\"Degree sequence\", degree_sequence)\n",
    "degreeCount = collections.Counter(degree_sequence)\n",
    "deg, cnt = zip(*degreeCount.items())"
   ]
  },
  {
   "cell_type": "code",
   "execution_count": null,
   "metadata": {},
   "outputs": [],
   "source": [
    "figure, ax = plt.subplots(figsize=(12, 8))\n",
    "\n",
    "plt.bar(deg, cnt, width=0.80, color='#43a2ca')\n",
    "plt.title(\"Households Network Degree Histogram\", fontsize = 20, fontname = \"Arial\")\n",
    "plt.ylabel(\"Frequency\", fontsize = 16, fontname = \"Arial\")\n",
    "plt.xlabel(\"Degree\", fontsize = 16, fontname = \"Arial\")\n",
    "\n",
    "ax.set_xticks([d for d in deg])\n",
    "ax.set_xticklabels(deg)\n",
    "\n",
    "rects = ax.patches\n",
    "\n",
    "# For each bar: Place a label\n",
    "for rect in rects:\n",
    "    # Get X and Y placement of label from rect.\n",
    "    y_value = rect.get_height()\n",
    "    x_value = rect.get_x() + rect.get_width() / 2\n",
    "\n",
    "    # Number of points between bar and label. Change to your liking.\n",
    "    space = 5\n",
    "    # Vertical alignment for positive values\n",
    "    va = 'bottom'\n",
    "\n",
    "    # If value of bar is negative: Place label below bar\n",
    "    if y_value < 0:\n",
    "        # Invert space to place label below\n",
    "        space *= -1\n",
    "        # Vertically align label at top\n",
    "        va = 'top'\n",
    "\n",
    "    # Use Y value as label and format number with one decimal place\n",
    "    label = \"{:.1f}\".format(y_value)\n",
    "\n",
    "    # Create annotation\n",
    "    plt.annotate(\n",
    "        label,                      # Use `label` as label\n",
    "        (x_value, y_value),         # Place label at end of the bar\n",
    "        xytext=(0, space),          # Vertically shift label by `space`\n",
    "        textcoords=\"offset points\", # Interpret `xytext` as offset in points\n",
    "        ha='center',                # Horizontally center label\n",
    "        va=va)                      # Vertically align label differently for\n",
    "                                    # positive and negative values."
   ]
  },
  {
   "cell_type": "code",
   "execution_count": null,
   "metadata": {},
   "outputs": [],
   "source": []
  }
 ],
 "metadata": {
  "kernelspec": {
   "display_name": "Python 3 (ipykernel)",
   "language": "python",
   "name": "python3"
  },
  "language_info": {
   "codemirror_mode": {
    "name": "ipython",
    "version": 3
   },
   "file_extension": ".py",
   "mimetype": "text/x-python",
   "name": "python",
   "nbconvert_exporter": "python",
   "pygments_lexer": "ipython3",
   "version": "3.9.13"
  }
 },
 "nbformat": 4,
 "nbformat_minor": 4
}
