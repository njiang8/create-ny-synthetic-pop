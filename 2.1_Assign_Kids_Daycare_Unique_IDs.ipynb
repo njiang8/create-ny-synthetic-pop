{
 "cells": [
  {
   "cell_type": "markdown",
   "metadata": {},
   "source": [
    "# Step 2:\n",
    "# Create Unique School and Daycare IDs and Assign Kids to Schools and Daycares\n",
    "\n",
    "* Kids with age [0-3] go to Daycares\n",
    "* Kids with age [4-11] go to Elementry school\n",
    "* Kids with age [12-13] go to Middle school\n",
    "* Kids with age [14-17] go to High school"
   ]
  },
  {
   "cell_type": "code",
   "execution_count": 13,
   "metadata": {
    "ExecuteTime": {
     "end_time": "2023-06-21T00:34:41.756211Z",
     "start_time": "2023-06-21T00:34:41.745622Z"
    }
   },
   "outputs": [],
   "source": [
    "import geopandas as gpd\n",
    "import pandas as pd\n",
    "import numpy as np\n",
    "import random\n",
    "import timeit\n",
    "#from shapely.ops import cascaded_union\n",
    "import multiprocessing\n",
    "from math import sin, cos, sqrt, atan2, radians\n",
    "from src.tools import edu_to_gpd"
   ]
  },
  {
   "cell_type": "markdown",
   "metadata": {
    "tags": []
   },
   "source": [
    "## 1, Load Data"
   ]
  },
  {
   "cell_type": "code",
   "execution_count": 156,
   "metadata": {
    "ExecuteTime": {
     "end_time": "2023-06-21T02:15:11.495494Z",
     "start_time": "2023-06-21T02:15:10.100287Z"
    }
   },
   "outputs": [
    {
     "data": {
      "text/plain": "       GEOID10       NAMELSAD10    ALAND10  AWATER10   INTPTLAT10  \\\n0  36029005300  Census Tract 53  2312977.0    5623.0  +42.9293726   \n1  36029005400  Census Tract 54  1824964.0  105583.0  +42.9379527   \n2  36029005500  Census Tract 55  1551922.0       0.0  +42.9389099   \n3  36029005600  Census Tract 56  2198732.0       0.0  +42.9511733   \n4  36029005700  Census Tract 57   956845.0       0.0  +42.9497231   \n\n     INTPTLON10  DP0010001  DP0010002  DP0010003  DP0010004  ...  DP0210001  \\\n0  -078.8597263       1458         34         17         24  ...        454   \n1  -078.8681782       3850        191        177        179  ...       1900   \n2  -078.8889077       4054        358        301        216  ...       1759   \n3  -078.8866130       4182        352        326        285  ...       1782   \n4  -078.8992508       2923        222        217        254  ...       1168   \n\n   DP0210002  DP0210003  DP0220001  DP0220002  DP0230001  DP0230002  \\\n0        165        289        377        397       2.28       1.37   \n1        917        983       2166       1671       2.36       1.70   \n2        490       1269       1121       2916       2.29       2.30   \n3        653       1129       1409       2747       2.16       2.43   \n4        426        742       1027       1891       2.41       2.55   \n\n   Shape_Leng  Shape_Area                                           geometry  \n0    0.067445    0.000256  POLYGON ((-78.85173 42.92745, -78.85233 42.926...  \n1    0.080981    0.000213  POLYGON ((-78.87817 42.93603, -78.87819 42.936...  \n2    0.072156    0.000171  POLYGON ((-78.87819 42.93639, -78.87817 42.936...  \n3    0.068333    0.000243  POLYGON ((-78.89561 42.94638, -78.89534 42.947...  \n4    0.048780    0.000106  POLYGON ((-78.89683 42.94439, -78.89775 42.944...  \n\n[5 rows x 195 columns]",
      "text/html": "<div>\n<style scoped>\n    .dataframe tbody tr th:only-of-type {\n        vertical-align: middle;\n    }\n\n    .dataframe tbody tr th {\n        vertical-align: top;\n    }\n\n    .dataframe thead th {\n        text-align: right;\n    }\n</style>\n<table border=\"1\" class=\"dataframe\">\n  <thead>\n    <tr style=\"text-align: right;\">\n      <th></th>\n      <th>GEOID10</th>\n      <th>NAMELSAD10</th>\n      <th>ALAND10</th>\n      <th>AWATER10</th>\n      <th>INTPTLAT10</th>\n      <th>INTPTLON10</th>\n      <th>DP0010001</th>\n      <th>DP0010002</th>\n      <th>DP0010003</th>\n      <th>DP0010004</th>\n      <th>...</th>\n      <th>DP0210001</th>\n      <th>DP0210002</th>\n      <th>DP0210003</th>\n      <th>DP0220001</th>\n      <th>DP0220002</th>\n      <th>DP0230001</th>\n      <th>DP0230002</th>\n      <th>Shape_Leng</th>\n      <th>Shape_Area</th>\n      <th>geometry</th>\n    </tr>\n  </thead>\n  <tbody>\n    <tr>\n      <th>0</th>\n      <td>36029005300</td>\n      <td>Census Tract 53</td>\n      <td>2312977.0</td>\n      <td>5623.0</td>\n      <td>+42.9293726</td>\n      <td>-078.8597263</td>\n      <td>1458</td>\n      <td>34</td>\n      <td>17</td>\n      <td>24</td>\n      <td>...</td>\n      <td>454</td>\n      <td>165</td>\n      <td>289</td>\n      <td>377</td>\n      <td>397</td>\n      <td>2.28</td>\n      <td>1.37</td>\n      <td>0.067445</td>\n      <td>0.000256</td>\n      <td>POLYGON ((-78.85173 42.92745, -78.85233 42.926...</td>\n    </tr>\n    <tr>\n      <th>1</th>\n      <td>36029005400</td>\n      <td>Census Tract 54</td>\n      <td>1824964.0</td>\n      <td>105583.0</td>\n      <td>+42.9379527</td>\n      <td>-078.8681782</td>\n      <td>3850</td>\n      <td>191</td>\n      <td>177</td>\n      <td>179</td>\n      <td>...</td>\n      <td>1900</td>\n      <td>917</td>\n      <td>983</td>\n      <td>2166</td>\n      <td>1671</td>\n      <td>2.36</td>\n      <td>1.70</td>\n      <td>0.080981</td>\n      <td>0.000213</td>\n      <td>POLYGON ((-78.87817 42.93603, -78.87819 42.936...</td>\n    </tr>\n    <tr>\n      <th>2</th>\n      <td>36029005500</td>\n      <td>Census Tract 55</td>\n      <td>1551922.0</td>\n      <td>0.0</td>\n      <td>+42.9389099</td>\n      <td>-078.8889077</td>\n      <td>4054</td>\n      <td>358</td>\n      <td>301</td>\n      <td>216</td>\n      <td>...</td>\n      <td>1759</td>\n      <td>490</td>\n      <td>1269</td>\n      <td>1121</td>\n      <td>2916</td>\n      <td>2.29</td>\n      <td>2.30</td>\n      <td>0.072156</td>\n      <td>0.000171</td>\n      <td>POLYGON ((-78.87819 42.93639, -78.87817 42.936...</td>\n    </tr>\n    <tr>\n      <th>3</th>\n      <td>36029005600</td>\n      <td>Census Tract 56</td>\n      <td>2198732.0</td>\n      <td>0.0</td>\n      <td>+42.9511733</td>\n      <td>-078.8866130</td>\n      <td>4182</td>\n      <td>352</td>\n      <td>326</td>\n      <td>285</td>\n      <td>...</td>\n      <td>1782</td>\n      <td>653</td>\n      <td>1129</td>\n      <td>1409</td>\n      <td>2747</td>\n      <td>2.16</td>\n      <td>2.43</td>\n      <td>0.068333</td>\n      <td>0.000243</td>\n      <td>POLYGON ((-78.89561 42.94638, -78.89534 42.947...</td>\n    </tr>\n    <tr>\n      <th>4</th>\n      <td>36029005700</td>\n      <td>Census Tract 57</td>\n      <td>956845.0</td>\n      <td>0.0</td>\n      <td>+42.9497231</td>\n      <td>-078.8992508</td>\n      <td>2923</td>\n      <td>222</td>\n      <td>217</td>\n      <td>254</td>\n      <td>...</td>\n      <td>1168</td>\n      <td>426</td>\n      <td>742</td>\n      <td>1027</td>\n      <td>1891</td>\n      <td>2.41</td>\n      <td>2.55</td>\n      <td>0.048780</td>\n      <td>0.000106</td>\n      <td>POLYGON ((-78.89683 42.94439, -78.89775 42.944...</td>\n    </tr>\n  </tbody>\n</table>\n<p>5 rows × 195 columns</p>\n</div>"
     },
     "execution_count": 156,
     "metadata": {},
     "output_type": "execute_result"
    }
   ],
   "source": [
    "#Census Treact Boundary\n",
    "#only read two columns\n",
    "tract = gpd.read_file('data/Erie_Tract_WGS84.shp')#.loc[:,['GEOID10','geometry']]\n",
    "tract.head()"
   ]
  },
  {
   "cell_type": "code",
   "execution_count": 157,
   "metadata": {
    "ExecuteTime": {
     "end_time": "2023-06-21T02:15:16.841524Z",
     "start_time": "2023-06-21T02:15:15.812282Z"
    }
   },
   "outputs": [
    {
     "data": {
      "text/plain": "              id   age sex            hhold  htype               wp  \\\n0  36029000110i0   6.0   f  36029000110h335      5              NaN   \n1  36029000110i1  54.0   f   36029000110h66      9  36029010700w572   \n2  36029000110i2  27.0   m  36029000110h185      7              NaN   \n3  36029000110i3  13.0   f  36029000110h335      5              NaN   \n4  36029000110i4  28.0   m  36029000110h186      7              NaN   \n\n                                        geometry       long        lat  \n0    POINT (-78.82896033753237 42.8319901673968) -78.828960  42.831990  \n1  POINT (-78.82684360311679 42.844139551113386) -78.826844  42.844140  \n2  POINT (-78.85573318586734 42.839600789208994) -78.855733  42.839601  \n3    POINT (-78.82896033753237 42.8319901673968) -78.828960  42.831990  \n4   POINT (-78.83826068581105 42.85535764959998) -78.838261  42.855358  ",
      "text/html": "<div>\n<style scoped>\n    .dataframe tbody tr th:only-of-type {\n        vertical-align: middle;\n    }\n\n    .dataframe tbody tr th {\n        vertical-align: top;\n    }\n\n    .dataframe thead th {\n        text-align: right;\n    }\n</style>\n<table border=\"1\" class=\"dataframe\">\n  <thead>\n    <tr style=\"text-align: right;\">\n      <th></th>\n      <th>id</th>\n      <th>age</th>\n      <th>sex</th>\n      <th>hhold</th>\n      <th>htype</th>\n      <th>wp</th>\n      <th>geometry</th>\n      <th>long</th>\n      <th>lat</th>\n    </tr>\n  </thead>\n  <tbody>\n    <tr>\n      <th>0</th>\n      <td>36029000110i0</td>\n      <td>6.0</td>\n      <td>f</td>\n      <td>36029000110h335</td>\n      <td>5</td>\n      <td>NaN</td>\n      <td>POINT (-78.82896033753237 42.8319901673968)</td>\n      <td>-78.828960</td>\n      <td>42.831990</td>\n    </tr>\n    <tr>\n      <th>1</th>\n      <td>36029000110i1</td>\n      <td>54.0</td>\n      <td>f</td>\n      <td>36029000110h66</td>\n      <td>9</td>\n      <td>36029010700w572</td>\n      <td>POINT (-78.82684360311679 42.844139551113386)</td>\n      <td>-78.826844</td>\n      <td>42.844140</td>\n    </tr>\n    <tr>\n      <th>2</th>\n      <td>36029000110i2</td>\n      <td>27.0</td>\n      <td>m</td>\n      <td>36029000110h185</td>\n      <td>7</td>\n      <td>NaN</td>\n      <td>POINT (-78.85573318586734 42.839600789208994)</td>\n      <td>-78.855733</td>\n      <td>42.839601</td>\n    </tr>\n    <tr>\n      <th>3</th>\n      <td>36029000110i3</td>\n      <td>13.0</td>\n      <td>f</td>\n      <td>36029000110h335</td>\n      <td>5</td>\n      <td>NaN</td>\n      <td>POINT (-78.82896033753237 42.8319901673968)</td>\n      <td>-78.828960</td>\n      <td>42.831990</td>\n    </tr>\n    <tr>\n      <th>4</th>\n      <td>36029000110i4</td>\n      <td>28.0</td>\n      <td>m</td>\n      <td>36029000110h186</td>\n      <td>7</td>\n      <td>NaN</td>\n      <td>POINT (-78.83826068581105 42.85535764959998)</td>\n      <td>-78.838261</td>\n      <td>42.855358</td>\n    </tr>\n  </tbody>\n</table>\n</div>"
     },
     "execution_count": 157,
     "metadata": {},
     "output_type": "execute_result"
    }
   ],
   "source": [
    "#Population (results from Step 1)\n",
    "pop = pd.read_csv('../results/Erie_pop.csv').iloc[:,1:]\n",
    "pop.head()"
   ]
  },
  {
   "cell_type": "code",
   "execution_count": 158,
   "metadata": {
    "ExecuteTime": {
     "end_time": "2023-06-21T02:15:17.224860Z",
     "start_time": "2023-06-21T02:15:17.220420Z"
    }
   },
   "outputs": [
    {
     "data": {
      "text/plain": "(900660, 9)"
     },
     "execution_count": 158,
     "metadata": {},
     "output_type": "execute_result"
    }
   ],
   "source": [
    "pop.shape"
   ]
  },
  {
   "cell_type": "code",
   "execution_count": 159,
   "metadata": {
    "ExecuteTime": {
     "end_time": "2023-06-21T02:15:18.554348Z",
     "start_time": "2023-06-21T02:15:18.539093Z"
    }
   },
   "outputs": [
    {
     "name": "stderr",
     "output_type": "stream",
     "text": [
      "/Users/richard/PycharmProjects/pythonProject/ny-s-pop/venv/lib/python3.8/site-packages/pyproj/crs/crs.py:141: FutureWarning: '+init=<authority>:<code>' syntax is deprecated. '<authority>:<code>' is the preferred initialization method. When making the change, be mindful of axis order changes: https://pyproj4.github.io/pyproj/stable/gotchas.html#axis-order-changes-in-proj-6\n",
      "  in_crs_string = _prepare_from_proj_string(in_crs_string)\n"
     ]
    },
    {
     "data": {
      "text/plain": "           ID                                   NAME COUNTY STATE   LATITUDE  \\\n0  1932514220          Cao Head Start - St. Agatha'S   Erie    NY  42.856728   \n1   372414210              Valley Community Day Care   Erie    NY  42.868244   \n2  1932314204        Cao Head Start - Old First Ward   Erie    NY  42.866421   \n3  1953614220  Kiddie Corner Child Care Center, Inc.   Erie    NY  42.836571   \n4  1953714220  Kiddie Corner Child Care Center, Inc.   Erie    NY  42.836899   \n\n   LONGITUDE  ENROLLMENT                    geometry          SchID  current  \n0 -78.827309        68.0  POINT (-78.82731 42.85673)  36029000200d0        0  \n1 -78.851486       262.0  POINT (-78.85149 42.86824)  36029000500d0        0  \n2 -78.862991        17.0  POINT (-78.86299 42.86642)  36029000500d1        0  \n3 -78.807053        32.0  POINT (-78.80705 42.83657)  36029000700d0        0  \n4 -78.807083        54.0  POINT (-78.80708 42.83690)  36029000700d1        0  ",
      "text/html": "<div>\n<style scoped>\n    .dataframe tbody tr th:only-of-type {\n        vertical-align: middle;\n    }\n\n    .dataframe tbody tr th {\n        vertical-align: top;\n    }\n\n    .dataframe thead th {\n        text-align: right;\n    }\n</style>\n<table border=\"1\" class=\"dataframe\">\n  <thead>\n    <tr style=\"text-align: right;\">\n      <th></th>\n      <th>ID</th>\n      <th>NAME</th>\n      <th>COUNTY</th>\n      <th>STATE</th>\n      <th>LATITUDE</th>\n      <th>LONGITUDE</th>\n      <th>ENROLLMENT</th>\n      <th>geometry</th>\n      <th>SchID</th>\n      <th>current</th>\n    </tr>\n  </thead>\n  <tbody>\n    <tr>\n      <th>0</th>\n      <td>1932514220</td>\n      <td>Cao Head Start - St. Agatha'S</td>\n      <td>Erie</td>\n      <td>NY</td>\n      <td>42.856728</td>\n      <td>-78.827309</td>\n      <td>68.0</td>\n      <td>POINT (-78.82731 42.85673)</td>\n      <td>36029000200d0</td>\n      <td>0</td>\n    </tr>\n    <tr>\n      <th>1</th>\n      <td>372414210</td>\n      <td>Valley Community Day Care</td>\n      <td>Erie</td>\n      <td>NY</td>\n      <td>42.868244</td>\n      <td>-78.851486</td>\n      <td>262.0</td>\n      <td>POINT (-78.85149 42.86824)</td>\n      <td>36029000500d0</td>\n      <td>0</td>\n    </tr>\n    <tr>\n      <th>2</th>\n      <td>1932314204</td>\n      <td>Cao Head Start - Old First Ward</td>\n      <td>Erie</td>\n      <td>NY</td>\n      <td>42.866421</td>\n      <td>-78.862991</td>\n      <td>17.0</td>\n      <td>POINT (-78.86299 42.86642)</td>\n      <td>36029000500d1</td>\n      <td>0</td>\n    </tr>\n    <tr>\n      <th>3</th>\n      <td>1953614220</td>\n      <td>Kiddie Corner Child Care Center, Inc.</td>\n      <td>Erie</td>\n      <td>NY</td>\n      <td>42.836571</td>\n      <td>-78.807053</td>\n      <td>32.0</td>\n      <td>POINT (-78.80705 42.83657)</td>\n      <td>36029000700d0</td>\n      <td>0</td>\n    </tr>\n    <tr>\n      <th>4</th>\n      <td>1953714220</td>\n      <td>Kiddie Corner Child Care Center, Inc.</td>\n      <td>Erie</td>\n      <td>NY</td>\n      <td>42.836899</td>\n      <td>-78.807083</td>\n      <td>54.0</td>\n      <td>POINT (-78.80708 42.83690)</td>\n      <td>36029000700d1</td>\n      <td>0</td>\n    </tr>\n  </tbody>\n</table>\n</div>"
     },
     "execution_count": 159,
     "metadata": {},
     "output_type": "execute_result"
    }
   ],
   "source": [
    "#Read Data\n",
    "#Daycare\n",
    "daycare = pd.read_csv('../results/daycares_erie_id.csv').iloc[:,1:]\n",
    "dc_gdf = edu_to_gpd(daycare)\n",
    "dc_gdf.head()"
   ]
  },
  {
   "cell_type": "code",
   "execution_count": 160,
   "outputs": [
    {
     "name": "stderr",
     "output_type": "stream",
     "text": [
      "/Users/richard/PycharmProjects/pythonProject/ny-s-pop/venv/lib/python3.8/site-packages/pyproj/crs/crs.py:141: FutureWarning: '+init=<authority>:<code>' syntax is deprecated. '<authority>:<code>' is the preferred initialization method. When making the change, be mindful of axis order changes: https://pyproj4.github.io/pyproj/stable/gotchas.html#axis-order-changes-in-proj-6\n",
      "  in_crs_string = _prepare_from_proj_string(in_crs_string)\n"
     ]
    },
    {
     "data": {
      "text/plain": "         NCESID                          NAME       COUNTY STATE    LEVEL  \\\n0  360003604337  SOUTH BUFFALO CHARTER SCHOOL  ERIE COUNTY    NY  Primary   \n1  360585000378        SOUTH PARK HIGH SCHOOL  ERIE COUNTY    NY     High   \n2  360585000333              BILINGUAL CENTER  ERIE COUNTY    NY  Primary   \n3  360585003478              DISCOVERY SCHOOL  ERIE COUNTY    NY  Primary   \n4  360585000363    LORRAINE ELEMENTARY SCHOOL  ERIE COUNTY    NY  Primary   \n\n    LATITUDE  LONGITUDE  ENROLLMENT                    geometry  \\\n0  42.838200 -78.823990         671  POINT (-78.82399 42.83820)   \n1  42.853061 -78.824250         773  POINT (-78.82425 42.85306)   \n2  42.868451 -78.848835         491  POINT (-78.84883 42.86845)   \n3  42.839878 -78.809253         567  POINT (-78.80925 42.83988)   \n4  42.846954 -78.814273         597  POINT (-78.81427 42.84695)   \n\n           SchID  current  \n0  36029000110s0        0  \n1  36029000200s0        0  \n2  36029000500s0        0  \n3  36029000700s0        0  \n4  36029000800s0        0  ",
      "text/html": "<div>\n<style scoped>\n    .dataframe tbody tr th:only-of-type {\n        vertical-align: middle;\n    }\n\n    .dataframe tbody tr th {\n        vertical-align: top;\n    }\n\n    .dataframe thead th {\n        text-align: right;\n    }\n</style>\n<table border=\"1\" class=\"dataframe\">\n  <thead>\n    <tr style=\"text-align: right;\">\n      <th></th>\n      <th>NCESID</th>\n      <th>NAME</th>\n      <th>COUNTY</th>\n      <th>STATE</th>\n      <th>LEVEL</th>\n      <th>LATITUDE</th>\n      <th>LONGITUDE</th>\n      <th>ENROLLMENT</th>\n      <th>geometry</th>\n      <th>SchID</th>\n      <th>current</th>\n    </tr>\n  </thead>\n  <tbody>\n    <tr>\n      <th>0</th>\n      <td>360003604337</td>\n      <td>SOUTH BUFFALO CHARTER SCHOOL</td>\n      <td>ERIE COUNTY</td>\n      <td>NY</td>\n      <td>Primary</td>\n      <td>42.838200</td>\n      <td>-78.823990</td>\n      <td>671</td>\n      <td>POINT (-78.82399 42.83820)</td>\n      <td>36029000110s0</td>\n      <td>0</td>\n    </tr>\n    <tr>\n      <th>1</th>\n      <td>360585000378</td>\n      <td>SOUTH PARK HIGH SCHOOL</td>\n      <td>ERIE COUNTY</td>\n      <td>NY</td>\n      <td>High</td>\n      <td>42.853061</td>\n      <td>-78.824250</td>\n      <td>773</td>\n      <td>POINT (-78.82425 42.85306)</td>\n      <td>36029000200s0</td>\n      <td>0</td>\n    </tr>\n    <tr>\n      <th>2</th>\n      <td>360585000333</td>\n      <td>BILINGUAL CENTER</td>\n      <td>ERIE COUNTY</td>\n      <td>NY</td>\n      <td>Primary</td>\n      <td>42.868451</td>\n      <td>-78.848835</td>\n      <td>491</td>\n      <td>POINT (-78.84883 42.86845)</td>\n      <td>36029000500s0</td>\n      <td>0</td>\n    </tr>\n    <tr>\n      <th>3</th>\n      <td>360585003478</td>\n      <td>DISCOVERY SCHOOL</td>\n      <td>ERIE COUNTY</td>\n      <td>NY</td>\n      <td>Primary</td>\n      <td>42.839878</td>\n      <td>-78.809253</td>\n      <td>567</td>\n      <td>POINT (-78.80925 42.83988)</td>\n      <td>36029000700s0</td>\n      <td>0</td>\n    </tr>\n    <tr>\n      <th>4</th>\n      <td>360585000363</td>\n      <td>LORRAINE ELEMENTARY SCHOOL</td>\n      <td>ERIE COUNTY</td>\n      <td>NY</td>\n      <td>Primary</td>\n      <td>42.846954</td>\n      <td>-78.814273</td>\n      <td>597</td>\n      <td>POINT (-78.81427 42.84695)</td>\n      <td>36029000800s0</td>\n      <td>0</td>\n    </tr>\n  </tbody>\n</table>\n</div>"
     },
     "execution_count": 160,
     "metadata": {},
     "output_type": "execute_result"
    }
   ],
   "source": [
    "school = pd.read_csv('../results/schools_erie_id.csv').iloc[:,1:]\n",
    "school_gdf = edu_to_gpd(school)\n",
    "school_gdf.head()"
   ],
   "metadata": {
    "collapsed": false,
    "ExecuteTime": {
     "end_time": "2023-06-21T02:15:22.297299Z",
     "start_time": "2023-06-21T02:15:22.279444Z"
    }
   }
  },
  {
   "cell_type": "markdown",
   "metadata": {},
   "source": [
    "## 2, Data Preprocess\n",
    "Assign Unique IDs for Schools and Daycares"
   ]
  },
  {
   "cell_type": "code",
   "execution_count": 161,
   "outputs": [],
   "source": [
    "from src.tools import edu_to_gpd\n",
    "from src.assign_workplace_edu import join_edu_data"
   ],
   "metadata": {
    "collapsed": false,
    "ExecuteTime": {
     "end_time": "2023-06-21T02:15:24.696959Z",
     "start_time": "2023-06-21T02:15:24.685345Z"
    }
   }
  },
  {
   "cell_type": "markdown",
   "metadata": {},
   "source": [
    "### 2.1 Change to Spatial Data"
   ]
  },
  {
   "cell_type": "markdown",
   "metadata": {},
   "source": [
    "### 2.2 Create Unique ID for Education Site\n",
    "Locate the schools and daycares to assign unique IDs"
   ]
  },
  {
   "cell_type": "markdown",
   "metadata": {},
   "source": [
    "### 2.3 Apply Spatial Join"
   ]
  },
  {
   "cell_type": "code",
   "execution_count": 162,
   "metadata": {
    "ExecuteTime": {
     "end_time": "2023-06-21T02:15:40.117843Z",
     "start_time": "2023-06-21T02:15:40.109521Z"
    }
   },
   "outputs": [
    {
     "name": "stderr",
     "output_type": "stream",
     "text": [
      "/Users/richard/PycharmProjects/pythonProject/ny-s-pop/venv/lib/python3.8/site-packages/pyproj/crs/crs.py:141: FutureWarning: '+init=<authority>:<code>' syntax is deprecated. '<authority>:<code>' is the preferred initialization method. When making the change, be mindful of axis order changes: https://pyproj4.github.io/pyproj/stable/gotchas.html#axis-order-changes-in-proj-6\n",
      "  in_crs_string = _prepare_from_proj_string(in_crs_string)\n"
     ]
    }
   ],
   "source": [
    "#set census crs into wgs84\n",
    "tract.crs = {'init' :'epsg:4326'}\n",
    "census = tract.loc[:,['GEOID10','geometry']]"
   ]
  },
  {
   "cell_type": "code",
   "execution_count": 163,
   "outputs": [
    {
     "data": {
      "text/plain": "<Geographic 2D CRS: +init=epsg:4326 +type=crs>\nName: WGS 84\nAxis Info [ellipsoidal]:\n- lon[east]: Longitude (degree)\n- lat[north]: Latitude (degree)\nArea of Use:\n- name: World.\n- bounds: (-180.0, -90.0, 180.0, 90.0)\nDatum: World Geodetic System 1984 ensemble\n- Ellipsoid: WGS 84\n- Prime Meridian: Greenwich"
     },
     "execution_count": 163,
     "metadata": {},
     "output_type": "execute_result"
    }
   ],
   "source": [
    "dc_gdf.crs"
   ],
   "metadata": {
    "collapsed": false,
    "ExecuteTime": {
     "end_time": "2023-06-21T02:15:41.360977Z",
     "start_time": "2023-06-21T02:15:41.353585Z"
    }
   }
  },
  {
   "cell_type": "code",
   "execution_count": 164,
   "outputs": [
    {
     "data": {
      "text/plain": "           ID                                   NAME COUNTY STATE   LATITUDE  \\\n0  1932514220          Cao Head Start - St. Agatha'S   Erie    NY  42.856728   \n1   372414210              Valley Community Day Care   Erie    NY  42.868244   \n2  1932314204        Cao Head Start - Old First Ward   Erie    NY  42.866421   \n3  1953614220  Kiddie Corner Child Care Center, Inc.   Erie    NY  42.836571   \n4  1953714220  Kiddie Corner Child Care Center, Inc.   Erie    NY  42.836899   \n\n   LONGITUDE  ENROLLMENT                    geometry          SchID  current  \n0 -78.827309        68.0  POINT (-78.82731 42.85673)  36029000200d0        0  \n1 -78.851486       262.0  POINT (-78.85149 42.86824)  36029000500d0        0  \n2 -78.862991        17.0  POINT (-78.86299 42.86642)  36029000500d1        0  \n3 -78.807053        32.0  POINT (-78.80705 42.83657)  36029000700d0        0  \n4 -78.807083        54.0  POINT (-78.80708 42.83690)  36029000700d1        0  ",
      "text/html": "<div>\n<style scoped>\n    .dataframe tbody tr th:only-of-type {\n        vertical-align: middle;\n    }\n\n    .dataframe tbody tr th {\n        vertical-align: top;\n    }\n\n    .dataframe thead th {\n        text-align: right;\n    }\n</style>\n<table border=\"1\" class=\"dataframe\">\n  <thead>\n    <tr style=\"text-align: right;\">\n      <th></th>\n      <th>ID</th>\n      <th>NAME</th>\n      <th>COUNTY</th>\n      <th>STATE</th>\n      <th>LATITUDE</th>\n      <th>LONGITUDE</th>\n      <th>ENROLLMENT</th>\n      <th>geometry</th>\n      <th>SchID</th>\n      <th>current</th>\n    </tr>\n  </thead>\n  <tbody>\n    <tr>\n      <th>0</th>\n      <td>1932514220</td>\n      <td>Cao Head Start - St. Agatha'S</td>\n      <td>Erie</td>\n      <td>NY</td>\n      <td>42.856728</td>\n      <td>-78.827309</td>\n      <td>68.0</td>\n      <td>POINT (-78.82731 42.85673)</td>\n      <td>36029000200d0</td>\n      <td>0</td>\n    </tr>\n    <tr>\n      <th>1</th>\n      <td>372414210</td>\n      <td>Valley Community Day Care</td>\n      <td>Erie</td>\n      <td>NY</td>\n      <td>42.868244</td>\n      <td>-78.851486</td>\n      <td>262.0</td>\n      <td>POINT (-78.85149 42.86824)</td>\n      <td>36029000500d0</td>\n      <td>0</td>\n    </tr>\n    <tr>\n      <th>2</th>\n      <td>1932314204</td>\n      <td>Cao Head Start - Old First Ward</td>\n      <td>Erie</td>\n      <td>NY</td>\n      <td>42.866421</td>\n      <td>-78.862991</td>\n      <td>17.0</td>\n      <td>POINT (-78.86299 42.86642)</td>\n      <td>36029000500d1</td>\n      <td>0</td>\n    </tr>\n    <tr>\n      <th>3</th>\n      <td>1953614220</td>\n      <td>Kiddie Corner Child Care Center, Inc.</td>\n      <td>Erie</td>\n      <td>NY</td>\n      <td>42.836571</td>\n      <td>-78.807053</td>\n      <td>32.0</td>\n      <td>POINT (-78.80705 42.83657)</td>\n      <td>36029000700d0</td>\n      <td>0</td>\n    </tr>\n    <tr>\n      <th>4</th>\n      <td>1953714220</td>\n      <td>Kiddie Corner Child Care Center, Inc.</td>\n      <td>Erie</td>\n      <td>NY</td>\n      <td>42.836899</td>\n      <td>-78.807083</td>\n      <td>54.0</td>\n      <td>POINT (-78.80708 42.83690)</td>\n      <td>36029000700d1</td>\n      <td>0</td>\n    </tr>\n  </tbody>\n</table>\n</div>"
     },
     "execution_count": 164,
     "metadata": {},
     "output_type": "execute_result"
    }
   ],
   "source": [
    "dc_gdf.head()"
   ],
   "metadata": {
    "collapsed": false,
    "ExecuteTime": {
     "end_time": "2023-06-21T02:15:44.121600Z",
     "start_time": "2023-06-21T02:15:44.115678Z"
    }
   }
  },
  {
   "cell_type": "code",
   "execution_count": 165,
   "outputs": [
    {
     "name": "stderr",
     "output_type": "stream",
     "text": [
      "/Users/richard/PycharmProjects/pythonProject/ny-s-pop/venv/lib/python3.8/site-packages/IPython/core/interactiveshell.py:3508: FutureWarning: The `op` parameter is deprecated and will be removed in a future release. Please use the `predicate` parameter instead.\n",
      "  exec(code_obj, self.user_global_ns, self.user_ns)\n"
     ]
    },
    {
     "data": {
      "text/plain": "           ID                                   NAME COUNTY STATE   LATITUDE  \\\n0  1932514220          Cao Head Start - St. Agatha'S   Erie    NY  42.856728   \n1   372414210              Valley Community Day Care   Erie    NY  42.868244   \n2  1932314204        Cao Head Start - Old First Ward   Erie    NY  42.866421   \n3  1953614220  Kiddie Corner Child Care Center, Inc.   Erie    NY  42.836571   \n4  1953714220  Kiddie Corner Child Care Center, Inc.   Erie    NY  42.836899   \n\n   LONGITUDE  ENROLLMENT                    geometry          SchID  current  \\\n0 -78.827309        68.0  POINT (-78.82731 42.85673)  36029000200d0        0   \n1 -78.851486       262.0  POINT (-78.85149 42.86824)  36029000500d0        0   \n2 -78.862991        17.0  POINT (-78.86299 42.86642)  36029000500d1        0   \n3 -78.807053        32.0  POINT (-78.80705 42.83657)  36029000700d0        0   \n4 -78.807083        54.0  POINT (-78.80708 42.83690)  36029000700d1        0   \n\n   index_right      GEOID10          temp  count  \n0           92  36029000200  36029000200d      0  \n1           93  36029000500  36029000500d      0  \n2           93  36029000500  36029000500d      1  \n3           95  36029000700  36029000700d      0  \n4           95  36029000700  36029000700d      1  ",
      "text/html": "<div>\n<style scoped>\n    .dataframe tbody tr th:only-of-type {\n        vertical-align: middle;\n    }\n\n    .dataframe tbody tr th {\n        vertical-align: top;\n    }\n\n    .dataframe thead th {\n        text-align: right;\n    }\n</style>\n<table border=\"1\" class=\"dataframe\">\n  <thead>\n    <tr style=\"text-align: right;\">\n      <th></th>\n      <th>ID</th>\n      <th>NAME</th>\n      <th>COUNTY</th>\n      <th>STATE</th>\n      <th>LATITUDE</th>\n      <th>LONGITUDE</th>\n      <th>ENROLLMENT</th>\n      <th>geometry</th>\n      <th>SchID</th>\n      <th>current</th>\n      <th>index_right</th>\n      <th>GEOID10</th>\n      <th>temp</th>\n      <th>count</th>\n    </tr>\n  </thead>\n  <tbody>\n    <tr>\n      <th>0</th>\n      <td>1932514220</td>\n      <td>Cao Head Start - St. Agatha'S</td>\n      <td>Erie</td>\n      <td>NY</td>\n      <td>42.856728</td>\n      <td>-78.827309</td>\n      <td>68.0</td>\n      <td>POINT (-78.82731 42.85673)</td>\n      <td>36029000200d0</td>\n      <td>0</td>\n      <td>92</td>\n      <td>36029000200</td>\n      <td>36029000200d</td>\n      <td>0</td>\n    </tr>\n    <tr>\n      <th>1</th>\n      <td>372414210</td>\n      <td>Valley Community Day Care</td>\n      <td>Erie</td>\n      <td>NY</td>\n      <td>42.868244</td>\n      <td>-78.851486</td>\n      <td>262.0</td>\n      <td>POINT (-78.85149 42.86824)</td>\n      <td>36029000500d0</td>\n      <td>0</td>\n      <td>93</td>\n      <td>36029000500</td>\n      <td>36029000500d</td>\n      <td>0</td>\n    </tr>\n    <tr>\n      <th>2</th>\n      <td>1932314204</td>\n      <td>Cao Head Start - Old First Ward</td>\n      <td>Erie</td>\n      <td>NY</td>\n      <td>42.866421</td>\n      <td>-78.862991</td>\n      <td>17.0</td>\n      <td>POINT (-78.86299 42.86642)</td>\n      <td>36029000500d1</td>\n      <td>0</td>\n      <td>93</td>\n      <td>36029000500</td>\n      <td>36029000500d</td>\n      <td>1</td>\n    </tr>\n    <tr>\n      <th>3</th>\n      <td>1953614220</td>\n      <td>Kiddie Corner Child Care Center, Inc.</td>\n      <td>Erie</td>\n      <td>NY</td>\n      <td>42.836571</td>\n      <td>-78.807053</td>\n      <td>32.0</td>\n      <td>POINT (-78.80705 42.83657)</td>\n      <td>36029000700d0</td>\n      <td>0</td>\n      <td>95</td>\n      <td>36029000700</td>\n      <td>36029000700d</td>\n      <td>0</td>\n    </tr>\n    <tr>\n      <th>4</th>\n      <td>1953714220</td>\n      <td>Kiddie Corner Child Care Center, Inc.</td>\n      <td>Erie</td>\n      <td>NY</td>\n      <td>42.836899</td>\n      <td>-78.807083</td>\n      <td>54.0</td>\n      <td>POINT (-78.80708 42.83690)</td>\n      <td>36029000700d1</td>\n      <td>0</td>\n      <td>95</td>\n      <td>36029000700</td>\n      <td>36029000700d</td>\n      <td>1</td>\n    </tr>\n  </tbody>\n</table>\n</div>"
     },
     "execution_count": 165,
     "metadata": {},
     "output_type": "execute_result"
    }
   ],
   "source": [
    "dc_gdf = join_edu_data(dc_gdf, census, \"SchID\", \"Daycare\")\n",
    "dc_gdf.head()"
   ],
   "metadata": {
    "collapsed": false,
    "ExecuteTime": {
     "end_time": "2023-06-21T02:15:45.751536Z",
     "start_time": "2023-06-21T02:15:45.481518Z"
    }
   }
  },
  {
   "cell_type": "code",
   "execution_count": 166,
   "outputs": [
    {
     "data": {
      "text/plain": "           ID                                   NAME COUNTY STATE   LATITUDE  \\\n0  1932514220          Cao Head Start - St. Agatha'S   Erie    NY  42.856728   \n1   372414210              Valley Community Day Care   Erie    NY  42.868244   \n2  1932314204        Cao Head Start - Old First Ward   Erie    NY  42.866421   \n3  1953614220  Kiddie Corner Child Care Center, Inc.   Erie    NY  42.836571   \n4  1953714220  Kiddie Corner Child Care Center, Inc.   Erie    NY  42.836899   \n\n   LONGITUDE  ENROLLMENT                    geometry          SchID  current  \n0 -78.827309        68.0  POINT (-78.82731 42.85673)  36029000200d0        0  \n1 -78.851486       262.0  POINT (-78.85149 42.86824)  36029000500d0        0  \n2 -78.862991        17.0  POINT (-78.86299 42.86642)  36029000500d1        0  \n3 -78.807053        32.0  POINT (-78.80705 42.83657)  36029000700d0        0  \n4 -78.807083        54.0  POINT (-78.80708 42.83690)  36029000700d1        0  ",
      "text/html": "<div>\n<style scoped>\n    .dataframe tbody tr th:only-of-type {\n        vertical-align: middle;\n    }\n\n    .dataframe tbody tr th {\n        vertical-align: top;\n    }\n\n    .dataframe thead th {\n        text-align: right;\n    }\n</style>\n<table border=\"1\" class=\"dataframe\">\n  <thead>\n    <tr style=\"text-align: right;\">\n      <th></th>\n      <th>ID</th>\n      <th>NAME</th>\n      <th>COUNTY</th>\n      <th>STATE</th>\n      <th>LATITUDE</th>\n      <th>LONGITUDE</th>\n      <th>ENROLLMENT</th>\n      <th>geometry</th>\n      <th>SchID</th>\n      <th>current</th>\n    </tr>\n  </thead>\n  <tbody>\n    <tr>\n      <th>0</th>\n      <td>1932514220</td>\n      <td>Cao Head Start - St. Agatha'S</td>\n      <td>Erie</td>\n      <td>NY</td>\n      <td>42.856728</td>\n      <td>-78.827309</td>\n      <td>68.0</td>\n      <td>POINT (-78.82731 42.85673)</td>\n      <td>36029000200d0</td>\n      <td>0</td>\n    </tr>\n    <tr>\n      <th>1</th>\n      <td>372414210</td>\n      <td>Valley Community Day Care</td>\n      <td>Erie</td>\n      <td>NY</td>\n      <td>42.868244</td>\n      <td>-78.851486</td>\n      <td>262.0</td>\n      <td>POINT (-78.85149 42.86824)</td>\n      <td>36029000500d0</td>\n      <td>0</td>\n    </tr>\n    <tr>\n      <th>2</th>\n      <td>1932314204</td>\n      <td>Cao Head Start - Old First Ward</td>\n      <td>Erie</td>\n      <td>NY</td>\n      <td>42.866421</td>\n      <td>-78.862991</td>\n      <td>17.0</td>\n      <td>POINT (-78.86299 42.86642)</td>\n      <td>36029000500d1</td>\n      <td>0</td>\n    </tr>\n    <tr>\n      <th>3</th>\n      <td>1953614220</td>\n      <td>Kiddie Corner Child Care Center, Inc.</td>\n      <td>Erie</td>\n      <td>NY</td>\n      <td>42.836571</td>\n      <td>-78.807053</td>\n      <td>32.0</td>\n      <td>POINT (-78.80705 42.83657)</td>\n      <td>36029000700d0</td>\n      <td>0</td>\n    </tr>\n    <tr>\n      <th>4</th>\n      <td>1953714220</td>\n      <td>Kiddie Corner Child Care Center, Inc.</td>\n      <td>Erie</td>\n      <td>NY</td>\n      <td>42.836899</td>\n      <td>-78.807083</td>\n      <td>54.0</td>\n      <td>POINT (-78.80708 42.83690)</td>\n      <td>36029000700d1</td>\n      <td>0</td>\n    </tr>\n  </tbody>\n</table>\n</div>"
     },
     "execution_count": 166,
     "metadata": {},
     "output_type": "execute_result"
    }
   ],
   "source": [
    "dc_gdf = dc_gdf.drop(columns=['index_right', 'GEOID10', 'temp', 'count'], axis=0)\n",
    "dc_gdf['current'] = 0\n",
    "dc_gdf.head()"
   ],
   "metadata": {
    "collapsed": false,
    "ExecuteTime": {
     "end_time": "2023-06-21T02:15:55.241820Z",
     "start_time": "2023-06-21T02:15:55.233401Z"
    }
   }
  },
  {
   "cell_type": "code",
   "execution_count": 167,
   "metadata": {
    "ExecuteTime": {
     "end_time": "2023-06-21T02:15:57.680963Z",
     "start_time": "2023-06-21T02:15:57.452761Z"
    }
   },
   "outputs": [
    {
     "name": "stderr",
     "output_type": "stream",
     "text": [
      "/Users/richard/PycharmProjects/pythonProject/ny-s-pop/venv/lib/python3.8/site-packages/IPython/core/interactiveshell.py:3508: FutureWarning: The `op` parameter is deprecated and will be removed in a future release. Please use the `predicate` parameter instead.\n",
      "  exec(code_obj, self.user_global_ns, self.user_ns)\n"
     ]
    }
   ],
   "source": [
    "school_gdf = join_edu_data(school_gdf, census, \"SchID\", \"School\")"
   ]
  },
  {
   "cell_type": "code",
   "execution_count": 168,
   "outputs": [
    {
     "data": {
      "text/plain": "         NCESID                          NAME       COUNTY STATE    LEVEL  \\\n0  360003604337  SOUTH BUFFALO CHARTER SCHOOL  ERIE COUNTY    NY  Primary   \n1  360585000378        SOUTH PARK HIGH SCHOOL  ERIE COUNTY    NY     High   \n2  360585000333              BILINGUAL CENTER  ERIE COUNTY    NY  Primary   \n3  360585003478              DISCOVERY SCHOOL  ERIE COUNTY    NY  Primary   \n4  360585000363    LORRAINE ELEMENTARY SCHOOL  ERIE COUNTY    NY  Primary   \n\n    LATITUDE  LONGITUDE  ENROLLMENT                    geometry  \\\n0  42.838200 -78.823990         671  POINT (-78.82399 42.83820)   \n1  42.853061 -78.824250         773  POINT (-78.82425 42.85306)   \n2  42.868451 -78.848835         491  POINT (-78.84883 42.86845)   \n3  42.839878 -78.809253         567  POINT (-78.80925 42.83988)   \n4  42.846954 -78.814273         597  POINT (-78.81427 42.84695)   \n\n           SchID  current  \n0  36029000110s0        0  \n1  36029000200s0        0  \n2  36029000500s0        0  \n3  36029000700s0        0  \n4  36029000800s0        0  ",
      "text/html": "<div>\n<style scoped>\n    .dataframe tbody tr th:only-of-type {\n        vertical-align: middle;\n    }\n\n    .dataframe tbody tr th {\n        vertical-align: top;\n    }\n\n    .dataframe thead th {\n        text-align: right;\n    }\n</style>\n<table border=\"1\" class=\"dataframe\">\n  <thead>\n    <tr style=\"text-align: right;\">\n      <th></th>\n      <th>NCESID</th>\n      <th>NAME</th>\n      <th>COUNTY</th>\n      <th>STATE</th>\n      <th>LEVEL</th>\n      <th>LATITUDE</th>\n      <th>LONGITUDE</th>\n      <th>ENROLLMENT</th>\n      <th>geometry</th>\n      <th>SchID</th>\n      <th>current</th>\n    </tr>\n  </thead>\n  <tbody>\n    <tr>\n      <th>0</th>\n      <td>360003604337</td>\n      <td>SOUTH BUFFALO CHARTER SCHOOL</td>\n      <td>ERIE COUNTY</td>\n      <td>NY</td>\n      <td>Primary</td>\n      <td>42.838200</td>\n      <td>-78.823990</td>\n      <td>671</td>\n      <td>POINT (-78.82399 42.83820)</td>\n      <td>36029000110s0</td>\n      <td>0</td>\n    </tr>\n    <tr>\n      <th>1</th>\n      <td>360585000378</td>\n      <td>SOUTH PARK HIGH SCHOOL</td>\n      <td>ERIE COUNTY</td>\n      <td>NY</td>\n      <td>High</td>\n      <td>42.853061</td>\n      <td>-78.824250</td>\n      <td>773</td>\n      <td>POINT (-78.82425 42.85306)</td>\n      <td>36029000200s0</td>\n      <td>0</td>\n    </tr>\n    <tr>\n      <th>2</th>\n      <td>360585000333</td>\n      <td>BILINGUAL CENTER</td>\n      <td>ERIE COUNTY</td>\n      <td>NY</td>\n      <td>Primary</td>\n      <td>42.868451</td>\n      <td>-78.848835</td>\n      <td>491</td>\n      <td>POINT (-78.84883 42.86845)</td>\n      <td>36029000500s0</td>\n      <td>0</td>\n    </tr>\n    <tr>\n      <th>3</th>\n      <td>360585003478</td>\n      <td>DISCOVERY SCHOOL</td>\n      <td>ERIE COUNTY</td>\n      <td>NY</td>\n      <td>Primary</td>\n      <td>42.839878</td>\n      <td>-78.809253</td>\n      <td>567</td>\n      <td>POINT (-78.80925 42.83988)</td>\n      <td>36029000700s0</td>\n      <td>0</td>\n    </tr>\n    <tr>\n      <th>4</th>\n      <td>360585000363</td>\n      <td>LORRAINE ELEMENTARY SCHOOL</td>\n      <td>ERIE COUNTY</td>\n      <td>NY</td>\n      <td>Primary</td>\n      <td>42.846954</td>\n      <td>-78.814273</td>\n      <td>597</td>\n      <td>POINT (-78.81427 42.84695)</td>\n      <td>36029000800s0</td>\n      <td>0</td>\n    </tr>\n  </tbody>\n</table>\n</div>"
     },
     "execution_count": 168,
     "metadata": {},
     "output_type": "execute_result"
    }
   ],
   "source": [
    "school_gdf = school_gdf.drop(columns=['index_right', 'GEOID10', 'temp', 'count'], axis=0)\n",
    "school_gdf['current'] = 0\n",
    "school_gdf.head()"
   ],
   "metadata": {
    "collapsed": false,
    "ExecuteTime": {
     "end_time": "2023-06-21T02:15:58.806400Z",
     "start_time": "2023-06-21T02:15:58.800448Z"
    }
   }
  },
  {
   "cell_type": "code",
   "execution_count": 72,
   "outputs": [],
   "source": [
    "#save to .csv file\n",
    "school_gdf.to_csv('../results/schools_erie_id.csv')\n",
    "dc_gdf.to_csv('../results/daycares_erie_id.csv')"
   ],
   "metadata": {
    "collapsed": false,
    "ExecuteTime": {
     "end_time": "2023-06-21T01:11:32.997073Z",
     "start_time": "2023-06-21T01:11:32.986156Z"
    }
   }
  },
  {
   "cell_type": "markdown",
   "metadata": {},
   "source": [
    "## 3, Test fot Assign Daycare ID and School ID"
   ]
  },
  {
   "cell_type": "code",
   "execution_count": 48,
   "outputs": [
    {
     "name": "stderr",
     "output_type": "stream",
     "text": [
      "/Users/richard/PycharmProjects/pythonProject/ny-s-pop/venv/lib/python3.8/site-packages/pyproj/crs/crs.py:141: FutureWarning: '+init=<authority>:<code>' syntax is deprecated. '<authority>:<code>' is the preferred initialization method. When making the change, be mindful of axis order changes: https://pyproj4.github.io/pyproj/stable/gotchas.html#axis-order-changes-in-proj-6\n",
      "  in_crs_string = _prepare_from_proj_string(in_crs_string)\n"
     ]
    },
    {
     "data": {
      "text/plain": "              id   age sex            hhold  htype               wp  \\\n0  36029000110i0   6.0   f  36029000110h335      5              NaN   \n1  36029000110i1  54.0   f   36029000110h66      9  36029010700w572   \n2  36029000110i2  27.0   m  36029000110h185      7              NaN   \n3  36029000110i3  13.0   f  36029000110h335      5              NaN   \n4  36029000110i4  28.0   m  36029000110h186      7              NaN   \n\n                     geometry       long        lat        tract  \n0  POINT (-78.82896 42.83199) -78.828960  42.831990  36029000110  \n1  POINT (-78.82684 42.84414) -78.826844  42.844140  36029000110  \n2  POINT (-78.85573 42.83960) -78.855733  42.839601  36029000110  \n3  POINT (-78.82896 42.83199) -78.828960  42.831990  36029000110  \n4  POINT (-78.83826 42.85536) -78.838261  42.855358  36029000110  ",
      "text/html": "<div>\n<style scoped>\n    .dataframe tbody tr th:only-of-type {\n        vertical-align: middle;\n    }\n\n    .dataframe tbody tr th {\n        vertical-align: top;\n    }\n\n    .dataframe thead th {\n        text-align: right;\n    }\n</style>\n<table border=\"1\" class=\"dataframe\">\n  <thead>\n    <tr style=\"text-align: right;\">\n      <th></th>\n      <th>id</th>\n      <th>age</th>\n      <th>sex</th>\n      <th>hhold</th>\n      <th>htype</th>\n      <th>wp</th>\n      <th>geometry</th>\n      <th>long</th>\n      <th>lat</th>\n      <th>tract</th>\n    </tr>\n  </thead>\n  <tbody>\n    <tr>\n      <th>0</th>\n      <td>36029000110i0</td>\n      <td>6.0</td>\n      <td>f</td>\n      <td>36029000110h335</td>\n      <td>5</td>\n      <td>NaN</td>\n      <td>POINT (-78.82896 42.83199)</td>\n      <td>-78.828960</td>\n      <td>42.831990</td>\n      <td>36029000110</td>\n    </tr>\n    <tr>\n      <th>1</th>\n      <td>36029000110i1</td>\n      <td>54.0</td>\n      <td>f</td>\n      <td>36029000110h66</td>\n      <td>9</td>\n      <td>36029010700w572</td>\n      <td>POINT (-78.82684 42.84414)</td>\n      <td>-78.826844</td>\n      <td>42.844140</td>\n      <td>36029000110</td>\n    </tr>\n    <tr>\n      <th>2</th>\n      <td>36029000110i2</td>\n      <td>27.0</td>\n      <td>m</td>\n      <td>36029000110h185</td>\n      <td>7</td>\n      <td>NaN</td>\n      <td>POINT (-78.85573 42.83960)</td>\n      <td>-78.855733</td>\n      <td>42.839601</td>\n      <td>36029000110</td>\n    </tr>\n    <tr>\n      <th>3</th>\n      <td>36029000110i3</td>\n      <td>13.0</td>\n      <td>f</td>\n      <td>36029000110h335</td>\n      <td>5</td>\n      <td>NaN</td>\n      <td>POINT (-78.82896 42.83199)</td>\n      <td>-78.828960</td>\n      <td>42.831990</td>\n      <td>36029000110</td>\n    </tr>\n    <tr>\n      <th>4</th>\n      <td>36029000110i4</td>\n      <td>28.0</td>\n      <td>m</td>\n      <td>36029000110h186</td>\n      <td>7</td>\n      <td>NaN</td>\n      <td>POINT (-78.83826 42.85536)</td>\n      <td>-78.838261</td>\n      <td>42.855358</td>\n      <td>36029000110</td>\n    </tr>\n  </tbody>\n</table>\n</div>"
     },
     "execution_count": 48,
     "metadata": {},
     "output_type": "execute_result"
    }
   ],
   "source": [
    "#Apply Convert function\n",
    "from src.tools import pop_to_geo_df\n",
    "pop_gdf = pop_to_geo_df(pop)\n",
    "#Add a column called tract indicating which census tract that the kid lives in\n",
    "pop_gdf['tract'] = pop_gdf['hhold'].str[0:11]\n",
    "pop_gdf.head()"
   ],
   "metadata": {
    "collapsed": false,
    "ExecuteTime": {
     "end_time": "2023-06-21T00:55:00.142619Z",
     "start_time": "2023-06-21T00:54:49.969319Z"
    }
   }
  },
  {
   "cell_type": "markdown",
   "metadata": {},
   "source": [
    "### 3.1 Function to calculate the great circle distance\n",
    "The reasons why we create this funtion is due the distance function from geopandas package is not giving us the right result. To fix the issue, we create a new distance function.\n",
    "\n",
    "If yours works fine, you don't have to do this."
   ]
  },
  {
   "cell_type": "code",
   "execution_count": 78,
   "outputs": [],
   "source": [
    "from src.assign_workplace_edu import new_distance"
   ],
   "metadata": {
    "collapsed": false,
    "ExecuteTime": {
     "end_time": "2023-06-21T01:15:03.179549Z",
     "start_time": "2023-06-21T01:15:03.174705Z"
    }
   }
  },
  {
   "cell_type": "code",
   "execution_count": 151,
   "outputs": [],
   "source": [
    "def assign_school(data, school, daycare):\n",
    "    print(data)\n",
    "    #if pd.isnull(test.loc[i,'wp']):\n",
    "    if pd.isnull(data.wp):\n",
    "        #print(\"wp is null\")\n",
    "        if data.age > 17:\n",
    "            #print(\"work from home\")\n",
    "            #print\n",
    "            return data.hhold\n",
    "        #indi_buffer = data.geometry.buffer(0.08)\n",
    "        #print(type(indi_buffer))\n",
    "        #Assign edu site based on age\n",
    "        elif data.age >= 4 and data.age <= 17:\n",
    "            #print(\"school\")\n",
    "            return find_eduid(data.lat, data.long, data.geometry, school)\n",
    "\n",
    "        elif data.age < 4:\n",
    "            #print(\"daycare\")\n",
    "            return find_eduid(data.lat, data.long, data.geometry, daycare)\n",
    "\n",
    "    else:\n",
    "        return data.wp\n"
   ],
   "metadata": {
    "collapsed": false,
    "ExecuteTime": {
     "end_time": "2023-06-21T01:52:21.443990Z",
     "start_time": "2023-06-21T01:52:21.435476Z"
    }
   }
  },
  {
   "cell_type": "code",
   "execution_count": 152,
   "outputs": [],
   "source": [
    "def find_eduid (x, y, position, edu_site):\n",
    "    buff = position.buffer(0.08)\n",
    "    s_in = edu_site[edu_site.intersects(buff)].copy()\n",
    "\n",
    "    if len(s_in) == 0:\n",
    "        buff = position.buffer(0.2)\n",
    "        s_in = edu_site[edu_site.intersects(buff)].copy()\n",
    "\n",
    "        #Intersect Road Point Lat list\n",
    "        sx = s_in.loc[:,'LATITUDE'].tolist()\n",
    "        #Intersect Road Point Long list\n",
    "        sy = s_in.loc[:, 'LONGITUDE'].tolist()\n",
    "\n",
    "        #Calculate Distance between the point and intersected road points\n",
    "        dist = [] #distance list\n",
    "        for j in range(0, len(s_in)):\n",
    "            d = new_distance(x, y, sx[j], sy[j])\n",
    "            dist.append(d)\n",
    "\n",
    "        #school ID list\n",
    "        sid = s_in.loc[:,'SchID']\n",
    "\n",
    "        #Create DF to hold the School ID an the their distance to Kids\n",
    "        df_sch_in = pd.DataFrame({'SchID': sid, 'Dist':dist}).sort_values(by='Dist')#.reset_index(drop=True)\n",
    "        #print(\"++++\")\n",
    "        #print(df_sch_in)\n",
    "\n",
    "        sch_AgeDistAccept = [s for s in df_sch_in.index if edu_site.loc[s, 'current'] < edu_site.loc[s, 'ENROLLMENT']]\n",
    "        #print(sch_AgeDistAccept)\n",
    "\n",
    "        if sch_AgeDistAccept != []:\n",
    "            j = sch_AgeDistAccept[0]\n",
    "            #print(df_sch_in.loc[j, 'SchID'])\n",
    "            return df_sch_in.loc[j, 'SchID']\n",
    "        else:\n",
    "            return random.choice(sid)\n",
    "\n",
    "        school.loc[sch_id, 'current'] += 1\n",
    "\n",
    "    else:\n",
    "        # Intersect Road Point Lat list\n",
    "        sx = s_in.loc[:, 'LATITUDE'].tolist()\n",
    "        # Intersect Road Point Long list\n",
    "        sy = s_in.loc[:, 'LONGITUDE'].tolist()\n",
    "\n",
    "        # Calculate Distance between the point and intersected road points\n",
    "        dist = []  # distance list\n",
    "        for j in range(0, len(s_in)):\n",
    "            d = new_distance(x, y, sx[j], sy[j])\n",
    "            dist.append(d)\n",
    "\n",
    "        # school ID list\n",
    "        sid = s_in.loc[:, 'SchID']\n",
    "\n",
    "        # Create DF to hold the School ID an the their distance to Kids\n",
    "        df_sch_in = pd.DataFrame({'SchID': sid, 'Dist': dist}).sort_values(by='Dist')  # .reset_index(drop=True)\n",
    "        # print(\"++++\")\n",
    "        # print(df_sch_in)\n",
    "\n",
    "        sch_AgeDistAccept = [s for s in df_sch_in.index if edu_site.loc[s, 'current'] < edu_site.loc[s, 'ENROLLMENT']]\n",
    "        # print(sch_AgeDistAccept)\n",
    "\n",
    "        if sch_AgeDistAccept != []:\n",
    "            j = sch_AgeDistAccept[0]\n",
    "            # print(df_sch_in.loc[j, 'SchID'])\n",
    "            return df_sch_in.loc[j, 'SchID']\n",
    "        else:\n",
    "            return random.choice(sid)\n",
    "\n",
    "        school.loc[sch_id, 'current'] += 1"
   ],
   "metadata": {
    "collapsed": false,
    "ExecuteTime": {
     "end_time": "2023-06-21T01:52:25.359505Z",
     "start_time": "2023-06-21T01:52:25.351438Z"
    }
   }
  },
  {
   "cell_type": "code",
   "execution_count": null,
   "outputs": [],
   "source": [],
   "metadata": {
    "collapsed": false
   }
  },
  {
   "cell_type": "code",
   "execution_count": 154,
   "outputs": [
    {
     "data": {
      "text/plain": "              id   age sex            hhold  htype               wp  \\\n0  36029000110i0   6.0   f  36029000110h335      5              NaN   \n1  36029000110i1  54.0   f   36029000110h66      9  36029010700w572   \n2  36029000110i2  27.0   m  36029000110h185      7              NaN   \n3  36029000110i3  13.0   f  36029000110h335      5              NaN   \n4  36029000110i4  28.0   m  36029000110h186      7              NaN   \n\n                     geometry       long        lat        tract  \n0  POINT (-78.82896 42.83199) -78.828960  42.831990  36029000110  \n1  POINT (-78.82684 42.84414) -78.826844  42.844140  36029000110  \n2  POINT (-78.85573 42.83960) -78.855733  42.839601  36029000110  \n3  POINT (-78.82896 42.83199) -78.828960  42.831990  36029000110  \n4  POINT (-78.83826 42.85536) -78.838261  42.855358  36029000110  ",
      "text/html": "<div>\n<style scoped>\n    .dataframe tbody tr th:only-of-type {\n        vertical-align: middle;\n    }\n\n    .dataframe tbody tr th {\n        vertical-align: top;\n    }\n\n    .dataframe thead th {\n        text-align: right;\n    }\n</style>\n<table border=\"1\" class=\"dataframe\">\n  <thead>\n    <tr style=\"text-align: right;\">\n      <th></th>\n      <th>id</th>\n      <th>age</th>\n      <th>sex</th>\n      <th>hhold</th>\n      <th>htype</th>\n      <th>wp</th>\n      <th>geometry</th>\n      <th>long</th>\n      <th>lat</th>\n      <th>tract</th>\n    </tr>\n  </thead>\n  <tbody>\n    <tr>\n      <th>0</th>\n      <td>36029000110i0</td>\n      <td>6.0</td>\n      <td>f</td>\n      <td>36029000110h335</td>\n      <td>5</td>\n      <td>NaN</td>\n      <td>POINT (-78.82896 42.83199)</td>\n      <td>-78.828960</td>\n      <td>42.831990</td>\n      <td>36029000110</td>\n    </tr>\n    <tr>\n      <th>1</th>\n      <td>36029000110i1</td>\n      <td>54.0</td>\n      <td>f</td>\n      <td>36029000110h66</td>\n      <td>9</td>\n      <td>36029010700w572</td>\n      <td>POINT (-78.82684 42.84414)</td>\n      <td>-78.826844</td>\n      <td>42.844140</td>\n      <td>36029000110</td>\n    </tr>\n    <tr>\n      <th>2</th>\n      <td>36029000110i2</td>\n      <td>27.0</td>\n      <td>m</td>\n      <td>36029000110h185</td>\n      <td>7</td>\n      <td>NaN</td>\n      <td>POINT (-78.85573 42.83960)</td>\n      <td>-78.855733</td>\n      <td>42.839601</td>\n      <td>36029000110</td>\n    </tr>\n    <tr>\n      <th>3</th>\n      <td>36029000110i3</td>\n      <td>13.0</td>\n      <td>f</td>\n      <td>36029000110h335</td>\n      <td>5</td>\n      <td>NaN</td>\n      <td>POINT (-78.82896 42.83199)</td>\n      <td>-78.828960</td>\n      <td>42.831990</td>\n      <td>36029000110</td>\n    </tr>\n    <tr>\n      <th>4</th>\n      <td>36029000110i4</td>\n      <td>28.0</td>\n      <td>m</td>\n      <td>36029000110h186</td>\n      <td>7</td>\n      <td>NaN</td>\n      <td>POINT (-78.83826 42.85536)</td>\n      <td>-78.838261</td>\n      <td>42.855358</td>\n      <td>36029000110</td>\n    </tr>\n  </tbody>\n</table>\n</div>"
     },
     "execution_count": 154,
     "metadata": {},
     "output_type": "execute_result"
    }
   ],
   "source": [
    "test = pop_gdf[:5].copy()\n",
    "test"
   ],
   "metadata": {
    "collapsed": false,
    "ExecuteTime": {
     "end_time": "2023-06-21T01:53:33.342724Z",
     "start_time": "2023-06-21T01:53:33.330546Z"
    }
   }
  },
  {
   "cell_type": "code",
   "execution_count": 155,
   "outputs": [
    {
     "data": {
      "text/plain": "RangeIndex(start=0, stop=5, step=1)"
     },
     "execution_count": 155,
     "metadata": {},
     "output_type": "execute_result"
    }
   ],
   "source": [
    "test.index"
   ],
   "metadata": {
    "collapsed": false,
    "ExecuteTime": {
     "end_time": "2023-06-21T01:53:33.953759Z",
     "start_time": "2023-06-21T01:53:33.951233Z"
    }
   }
  },
  {
   "cell_type": "code",
   "execution_count": 147,
   "outputs": [
    {
     "name": "stdout",
     "output_type": "stream",
     "text": [
      "id                                        36029000110i0\n",
      "age                                                 6.0\n",
      "sex                                                   f\n",
      "hhold                                   36029000110h335\n",
      "htype                                                 5\n",
      "wp                                                  NaN\n",
      "geometry    POINT (-78.82896033753237 42.8319901673968)\n",
      "long                                          -78.82896\n",
      "lat                                            42.83199\n",
      "tract                                       36029000110\n",
      "Name: 0, dtype: object\n",
      "id                                          36029000110i1\n",
      "age                                                  54.0\n",
      "sex                                                     f\n",
      "hhold                                      36029000110h66\n",
      "htype                                                   9\n",
      "wp                                        36029010700w572\n",
      "geometry    POINT (-78.82684360311679 42.844139551113386)\n",
      "long                                           -78.826844\n",
      "lat                                              42.84414\n",
      "tract                                         36029000110\n",
      "Name: 1, dtype: object\n",
      "id                                          36029000110i2\n",
      "age                                                  27.0\n",
      "sex                                                     m\n",
      "hhold                                     36029000110h185\n",
      "htype                                                   7\n",
      "wp                                                    NaN\n",
      "geometry    POINT (-78.85573318586734 42.839600789208994)\n",
      "long                                           -78.855733\n",
      "lat                                             42.839601\n",
      "tract                                         36029000110\n",
      "Name: 2, dtype: object\n",
      "id                                        36029000110i3\n",
      "age                                                13.0\n",
      "sex                                                   f\n",
      "hhold                                   36029000110h335\n",
      "htype                                                 5\n",
      "wp                                                  NaN\n",
      "geometry    POINT (-78.82896033753237 42.8319901673968)\n",
      "long                                          -78.82896\n",
      "lat                                            42.83199\n",
      "tract                                       36029000110\n",
      "Name: 3, dtype: object\n",
      "id                                         36029000110i4\n",
      "age                                                 28.0\n",
      "sex                                                    m\n",
      "hhold                                    36029000110h186\n",
      "htype                                                  7\n",
      "wp                                                   NaN\n",
      "geometry    POINT (-78.83826068581105 42.85535764959998)\n",
      "long                                          -78.838261\n",
      "lat                                            42.855358\n",
      "tract                                        36029000110\n",
      "Name: 4, dtype: object\n"
     ]
    },
    {
     "data": {
      "text/plain": "              id   age sex            hhold  htype               wp  \\\n0  36029000110i0   6.0   f  36029000110h335      5    36029000110s0   \n1  36029000110i1  54.0   f   36029000110h66      9  36029010700w572   \n2  36029000110i2  27.0   m  36029000110h185      7  36029000110h185   \n3  36029000110i3  13.0   f  36029000110h335      5    36029000110s0   \n4  36029000110i4  28.0   m  36029000110h186      7  36029000110h186   \n\n                     geometry       long        lat        tract  \n0  POINT (-78.82896 42.83199) -78.828960  42.831990  36029000110  \n1  POINT (-78.82684 42.84414) -78.826844  42.844140  36029000110  \n2  POINT (-78.85573 42.83960) -78.855733  42.839601  36029000110  \n3  POINT (-78.82896 42.83199) -78.828960  42.831990  36029000110  \n4  POINT (-78.83826 42.85536) -78.838261  42.855358  36029000110  ",
      "text/html": "<div>\n<style scoped>\n    .dataframe tbody tr th:only-of-type {\n        vertical-align: middle;\n    }\n\n    .dataframe tbody tr th {\n        vertical-align: top;\n    }\n\n    .dataframe thead th {\n        text-align: right;\n    }\n</style>\n<table border=\"1\" class=\"dataframe\">\n  <thead>\n    <tr style=\"text-align: right;\">\n      <th></th>\n      <th>id</th>\n      <th>age</th>\n      <th>sex</th>\n      <th>hhold</th>\n      <th>htype</th>\n      <th>wp</th>\n      <th>geometry</th>\n      <th>long</th>\n      <th>lat</th>\n      <th>tract</th>\n    </tr>\n  </thead>\n  <tbody>\n    <tr>\n      <th>0</th>\n      <td>36029000110i0</td>\n      <td>6.0</td>\n      <td>f</td>\n      <td>36029000110h335</td>\n      <td>5</td>\n      <td>36029000110s0</td>\n      <td>POINT (-78.82896 42.83199)</td>\n      <td>-78.828960</td>\n      <td>42.831990</td>\n      <td>36029000110</td>\n    </tr>\n    <tr>\n      <th>1</th>\n      <td>36029000110i1</td>\n      <td>54.0</td>\n      <td>f</td>\n      <td>36029000110h66</td>\n      <td>9</td>\n      <td>36029010700w572</td>\n      <td>POINT (-78.82684 42.84414)</td>\n      <td>-78.826844</td>\n      <td>42.844140</td>\n      <td>36029000110</td>\n    </tr>\n    <tr>\n      <th>2</th>\n      <td>36029000110i2</td>\n      <td>27.0</td>\n      <td>m</td>\n      <td>36029000110h185</td>\n      <td>7</td>\n      <td>36029000110h185</td>\n      <td>POINT (-78.85573 42.83960)</td>\n      <td>-78.855733</td>\n      <td>42.839601</td>\n      <td>36029000110</td>\n    </tr>\n    <tr>\n      <th>3</th>\n      <td>36029000110i3</td>\n      <td>13.0</td>\n      <td>f</td>\n      <td>36029000110h335</td>\n      <td>5</td>\n      <td>36029000110s0</td>\n      <td>POINT (-78.82896 42.83199)</td>\n      <td>-78.828960</td>\n      <td>42.831990</td>\n      <td>36029000110</td>\n    </tr>\n    <tr>\n      <th>4</th>\n      <td>36029000110i4</td>\n      <td>28.0</td>\n      <td>m</td>\n      <td>36029000110h186</td>\n      <td>7</td>\n      <td>36029000110h186</td>\n      <td>POINT (-78.83826 42.85536)</td>\n      <td>-78.838261</td>\n      <td>42.855358</td>\n      <td>36029000110</td>\n    </tr>\n  </tbody>\n</table>\n</div>"
     },
     "execution_count": 147,
     "metadata": {},
     "output_type": "execute_result"
    }
   ],
   "source": [
    "test['wp'] = test.apply(assign_school,args=(school_gdf, dc_gdf),axis=1)\n",
    "test"
   ],
   "metadata": {
    "collapsed": false,
    "ExecuteTime": {
     "end_time": "2023-06-21T01:48:10.208588Z",
     "start_time": "2023-06-21T01:48:10.194506Z"
    }
   }
  },
  {
   "cell_type": "markdown",
   "metadata": {},
   "source": [
    "### 3.2 Assign School and DaycareID function"
   ]
  },
  {
   "cell_type": "code",
   "execution_count": 127,
   "metadata": {
    "ExecuteTime": {
     "end_time": "2023-06-21T01:44:07.286574Z",
     "start_time": "2023-06-21T01:36:44.671205Z"
    }
   },
   "outputs": [
    {
     "name": "stdout",
     "output_type": "stream",
     "text": [
      "Start running...\n"
     ]
    },
    {
     "ename": "KeyboardInterrupt",
     "evalue": "",
     "output_type": "error",
     "traceback": [
      "\u001B[0;31m---------------------------------------------------------------------------\u001B[0m",
      "\u001B[0;31mKeyboardInterrupt\u001B[0m                         Traceback (most recent call last)",
      "Cell \u001B[0;32mIn[127], line 4\u001B[0m\n\u001B[1;32m      2\u001B[0m \u001B[38;5;66;03m#set timer\u001B[39;00m\n\u001B[1;32m      3\u001B[0m start_time \u001B[38;5;241m=\u001B[39m timeit\u001B[38;5;241m.\u001B[39mdefault_timer()\n\u001B[0;32m----> 4\u001B[0m pop_gdf[\u001B[38;5;124m'\u001B[39m\u001B[38;5;124mwp\u001B[39m\u001B[38;5;124m'\u001B[39m] \u001B[38;5;241m=\u001B[39m \u001B[43mpop_gdf\u001B[49m\u001B[38;5;241;43m.\u001B[39;49m\u001B[43mapply\u001B[49m\u001B[43m(\u001B[49m\u001B[43massign_school\u001B[49m\u001B[43m,\u001B[49m\u001B[43margs\u001B[49m\u001B[38;5;241;43m=\u001B[39;49m\u001B[43m(\u001B[49m\u001B[43mschool_gdf\u001B[49m\u001B[43m,\u001B[49m\u001B[43m \u001B[49m\u001B[43mdc_gdf\u001B[49m\u001B[43m)\u001B[49m\u001B[43m,\u001B[49m\u001B[43maxis\u001B[49m\u001B[38;5;241;43m=\u001B[39;49m\u001B[38;5;241;43m1\u001B[39;49m\u001B[43m)\u001B[49m\n\u001B[1;32m      5\u001B[0m elapsed \u001B[38;5;241m=\u001B[39m timeit\u001B[38;5;241m.\u001B[39mdefault_timer() \u001B[38;5;241m-\u001B[39m start_time\n\u001B[1;32m      6\u001B[0m \u001B[38;5;28mprint\u001B[39m(\u001B[38;5;124m\"\u001B[39m\u001B[38;5;124mTotal Time(s):\u001B[39m\u001B[38;5;124m\"\u001B[39m, elapsed)\n",
      "File \u001B[0;32m~/PycharmProjects/pythonProject/ny-s-pop/venv/lib/python3.8/site-packages/geopandas/geodataframe.py:1581\u001B[0m, in \u001B[0;36mGeoDataFrame.apply\u001B[0;34m(self, func, axis, raw, result_type, args, **kwargs)\u001B[0m\n\u001B[1;32m   1579\u001B[0m \u001B[38;5;129m@doc\u001B[39m(pd\u001B[38;5;241m.\u001B[39mDataFrame)\n\u001B[1;32m   1580\u001B[0m \u001B[38;5;28;01mdef\u001B[39;00m \u001B[38;5;21mapply\u001B[39m(\u001B[38;5;28mself\u001B[39m, func, axis\u001B[38;5;241m=\u001B[39m\u001B[38;5;241m0\u001B[39m, raw\u001B[38;5;241m=\u001B[39m\u001B[38;5;28;01mFalse\u001B[39;00m, result_type\u001B[38;5;241m=\u001B[39m\u001B[38;5;28;01mNone\u001B[39;00m, args\u001B[38;5;241m=\u001B[39m(), \u001B[38;5;241m*\u001B[39m\u001B[38;5;241m*\u001B[39mkwargs):\n\u001B[0;32m-> 1581\u001B[0m     result \u001B[38;5;241m=\u001B[39m \u001B[38;5;28;43msuper\u001B[39;49m\u001B[43m(\u001B[49m\u001B[43m)\u001B[49m\u001B[38;5;241;43m.\u001B[39;49m\u001B[43mapply\u001B[49m\u001B[43m(\u001B[49m\n\u001B[1;32m   1582\u001B[0m \u001B[43m        \u001B[49m\u001B[43mfunc\u001B[49m\u001B[43m,\u001B[49m\u001B[43m \u001B[49m\u001B[43maxis\u001B[49m\u001B[38;5;241;43m=\u001B[39;49m\u001B[43maxis\u001B[49m\u001B[43m,\u001B[49m\u001B[43m \u001B[49m\u001B[43mraw\u001B[49m\u001B[38;5;241;43m=\u001B[39;49m\u001B[43mraw\u001B[49m\u001B[43m,\u001B[49m\u001B[43m \u001B[49m\u001B[43mresult_type\u001B[49m\u001B[38;5;241;43m=\u001B[39;49m\u001B[43mresult_type\u001B[49m\u001B[43m,\u001B[49m\u001B[43m \u001B[49m\u001B[43margs\u001B[49m\u001B[38;5;241;43m=\u001B[39;49m\u001B[43margs\u001B[49m\u001B[43m,\u001B[49m\u001B[43m \u001B[49m\u001B[38;5;241;43m*\u001B[39;49m\u001B[38;5;241;43m*\u001B[39;49m\u001B[43mkwargs\u001B[49m\n\u001B[1;32m   1583\u001B[0m \u001B[43m    \u001B[49m\u001B[43m)\u001B[49m\n\u001B[1;32m   1584\u001B[0m     \u001B[38;5;66;03m# pandas <1.4 re-attach last geometry col if lost\u001B[39;00m\n\u001B[1;32m   1585\u001B[0m     \u001B[38;5;28;01mif\u001B[39;00m (\n\u001B[1;32m   1586\u001B[0m         \u001B[38;5;129;01mnot\u001B[39;00m compat\u001B[38;5;241m.\u001B[39mPANDAS_GE_14\n\u001B[1;32m   1587\u001B[0m         \u001B[38;5;129;01mand\u001B[39;00m \u001B[38;5;28misinstance\u001B[39m(result, GeoDataFrame)\n\u001B[1;32m   1588\u001B[0m         \u001B[38;5;129;01mand\u001B[39;00m result\u001B[38;5;241m.\u001B[39m_geometry_column_name \u001B[38;5;129;01mis\u001B[39;00m \u001B[38;5;28;01mNone\u001B[39;00m\n\u001B[1;32m   1589\u001B[0m     ):\n",
      "File \u001B[0;32m~/PycharmProjects/pythonProject/ny-s-pop/venv/lib/python3.8/site-packages/pandas/core/frame.py:9423\u001B[0m, in \u001B[0;36mDataFrame.apply\u001B[0;34m(self, func, axis, raw, result_type, args, **kwargs)\u001B[0m\n\u001B[1;32m   9412\u001B[0m \u001B[38;5;28;01mfrom\u001B[39;00m \u001B[38;5;21;01mpandas\u001B[39;00m\u001B[38;5;21;01m.\u001B[39;00m\u001B[38;5;21;01mcore\u001B[39;00m\u001B[38;5;21;01m.\u001B[39;00m\u001B[38;5;21;01mapply\u001B[39;00m \u001B[38;5;28;01mimport\u001B[39;00m frame_apply\n\u001B[1;32m   9414\u001B[0m op \u001B[38;5;241m=\u001B[39m frame_apply(\n\u001B[1;32m   9415\u001B[0m     \u001B[38;5;28mself\u001B[39m,\n\u001B[1;32m   9416\u001B[0m     func\u001B[38;5;241m=\u001B[39mfunc,\n\u001B[0;32m   (...)\u001B[0m\n\u001B[1;32m   9421\u001B[0m     kwargs\u001B[38;5;241m=\u001B[39mkwargs,\n\u001B[1;32m   9422\u001B[0m )\n\u001B[0;32m-> 9423\u001B[0m \u001B[38;5;28;01mreturn\u001B[39;00m \u001B[43mop\u001B[49m\u001B[38;5;241;43m.\u001B[39;49m\u001B[43mapply\u001B[49m\u001B[43m(\u001B[49m\u001B[43m)\u001B[49m\u001B[38;5;241m.\u001B[39m__finalize__(\u001B[38;5;28mself\u001B[39m, method\u001B[38;5;241m=\u001B[39m\u001B[38;5;124m\"\u001B[39m\u001B[38;5;124mapply\u001B[39m\u001B[38;5;124m\"\u001B[39m)\n",
      "File \u001B[0;32m~/PycharmProjects/pythonProject/ny-s-pop/venv/lib/python3.8/site-packages/pandas/core/apply.py:678\u001B[0m, in \u001B[0;36mFrameApply.apply\u001B[0;34m(self)\u001B[0m\n\u001B[1;32m    675\u001B[0m \u001B[38;5;28;01melif\u001B[39;00m \u001B[38;5;28mself\u001B[39m\u001B[38;5;241m.\u001B[39mraw:\n\u001B[1;32m    676\u001B[0m     \u001B[38;5;28;01mreturn\u001B[39;00m \u001B[38;5;28mself\u001B[39m\u001B[38;5;241m.\u001B[39mapply_raw()\n\u001B[0;32m--> 678\u001B[0m \u001B[38;5;28;01mreturn\u001B[39;00m \u001B[38;5;28;43mself\u001B[39;49m\u001B[38;5;241;43m.\u001B[39;49m\u001B[43mapply_standard\u001B[49m\u001B[43m(\u001B[49m\u001B[43m)\u001B[49m\n",
      "File \u001B[0;32m~/PycharmProjects/pythonProject/ny-s-pop/venv/lib/python3.8/site-packages/pandas/core/apply.py:798\u001B[0m, in \u001B[0;36mFrameApply.apply_standard\u001B[0;34m(self)\u001B[0m\n\u001B[1;32m    797\u001B[0m \u001B[38;5;28;01mdef\u001B[39;00m \u001B[38;5;21mapply_standard\u001B[39m(\u001B[38;5;28mself\u001B[39m):\n\u001B[0;32m--> 798\u001B[0m     results, res_index \u001B[38;5;241m=\u001B[39m \u001B[38;5;28;43mself\u001B[39;49m\u001B[38;5;241;43m.\u001B[39;49m\u001B[43mapply_series_generator\u001B[49m\u001B[43m(\u001B[49m\u001B[43m)\u001B[49m\n\u001B[1;32m    800\u001B[0m     \u001B[38;5;66;03m# wrap results\u001B[39;00m\n\u001B[1;32m    801\u001B[0m     \u001B[38;5;28;01mreturn\u001B[39;00m \u001B[38;5;28mself\u001B[39m\u001B[38;5;241m.\u001B[39mwrap_results(results, res_index)\n",
      "File \u001B[0;32m~/PycharmProjects/pythonProject/ny-s-pop/venv/lib/python3.8/site-packages/pandas/core/apply.py:814\u001B[0m, in \u001B[0;36mFrameApply.apply_series_generator\u001B[0;34m(self)\u001B[0m\n\u001B[1;32m    811\u001B[0m \u001B[38;5;28;01mwith\u001B[39;00m option_context(\u001B[38;5;124m\"\u001B[39m\u001B[38;5;124mmode.chained_assignment\u001B[39m\u001B[38;5;124m\"\u001B[39m, \u001B[38;5;28;01mNone\u001B[39;00m):\n\u001B[1;32m    812\u001B[0m     \u001B[38;5;28;01mfor\u001B[39;00m i, v \u001B[38;5;129;01min\u001B[39;00m \u001B[38;5;28menumerate\u001B[39m(series_gen):\n\u001B[1;32m    813\u001B[0m         \u001B[38;5;66;03m# ignore SettingWithCopy here in case the user mutates\u001B[39;00m\n\u001B[0;32m--> 814\u001B[0m         results[i] \u001B[38;5;241m=\u001B[39m \u001B[38;5;28;43mself\u001B[39;49m\u001B[38;5;241;43m.\u001B[39;49m\u001B[43mf\u001B[49m\u001B[43m(\u001B[49m\u001B[43mv\u001B[49m\u001B[43m)\u001B[49m\n\u001B[1;32m    815\u001B[0m         \u001B[38;5;28;01mif\u001B[39;00m \u001B[38;5;28misinstance\u001B[39m(results[i], ABCSeries):\n\u001B[1;32m    816\u001B[0m             \u001B[38;5;66;03m# If we have a view on v, we need to make a copy because\u001B[39;00m\n\u001B[1;32m    817\u001B[0m             \u001B[38;5;66;03m#  series_generator will swap out the underlying data\u001B[39;00m\n\u001B[1;32m    818\u001B[0m             results[i] \u001B[38;5;241m=\u001B[39m results[i]\u001B[38;5;241m.\u001B[39mcopy(deep\u001B[38;5;241m=\u001B[39m\u001B[38;5;28;01mFalse\u001B[39;00m)\n",
      "File \u001B[0;32m~/PycharmProjects/pythonProject/ny-s-pop/venv/lib/python3.8/site-packages/pandas/core/apply.py:133\u001B[0m, in \u001B[0;36mApply.__init__.<locals>.f\u001B[0;34m(x)\u001B[0m\n\u001B[1;32m    132\u001B[0m \u001B[38;5;28;01mdef\u001B[39;00m \u001B[38;5;21mf\u001B[39m(x):\n\u001B[0;32m--> 133\u001B[0m     \u001B[38;5;28;01mreturn\u001B[39;00m \u001B[43mfunc\u001B[49m\u001B[43m(\u001B[49m\u001B[43mx\u001B[49m\u001B[43m,\u001B[49m\u001B[43m \u001B[49m\u001B[38;5;241;43m*\u001B[39;49m\u001B[43margs\u001B[49m\u001B[43m,\u001B[49m\u001B[43m \u001B[49m\u001B[38;5;241;43m*\u001B[39;49m\u001B[38;5;241;43m*\u001B[39;49m\u001B[43mkwargs\u001B[49m\u001B[43m)\u001B[49m\n",
      "Cell \u001B[0;32mIn[123], line 105\u001B[0m, in \u001B[0;36massign_school\u001B[0;34m(data, school, daycare)\u001B[0m\n\u001B[1;32m    100\u001B[0m \u001B[38;5;66;03m#indi_buffer = data.geometry.buffer(0.08)\u001B[39;00m\n\u001B[1;32m    101\u001B[0m \u001B[38;5;66;03m#print(type(indi_buffer))\u001B[39;00m\n\u001B[1;32m    102\u001B[0m \u001B[38;5;66;03m#Assign edu site based on age\u001B[39;00m\n\u001B[1;32m    103\u001B[0m \u001B[38;5;28;01melif\u001B[39;00m data\u001B[38;5;241m.\u001B[39mage \u001B[38;5;241m>\u001B[39m\u001B[38;5;241m=\u001B[39m \u001B[38;5;241m4\u001B[39m \u001B[38;5;129;01mand\u001B[39;00m data\u001B[38;5;241m.\u001B[39mage \u001B[38;5;241m<\u001B[39m\u001B[38;5;241m=\u001B[39m \u001B[38;5;241m17\u001B[39m:\n\u001B[1;32m    104\u001B[0m     \u001B[38;5;66;03m#print(\"school\")\u001B[39;00m\n\u001B[0;32m--> 105\u001B[0m     \u001B[38;5;28;01mreturn\u001B[39;00m \u001B[43mfind_eduid\u001B[49m\u001B[43m(\u001B[49m\u001B[43mdata\u001B[49m\u001B[38;5;241;43m.\u001B[39;49m\u001B[43mlat\u001B[49m\u001B[43m,\u001B[49m\u001B[43m \u001B[49m\u001B[43mdata\u001B[49m\u001B[38;5;241;43m.\u001B[39;49m\u001B[43mlong\u001B[49m\u001B[43m,\u001B[49m\u001B[43m \u001B[49m\u001B[43mdata\u001B[49m\u001B[38;5;241;43m.\u001B[39;49m\u001B[43mgeometry\u001B[49m\u001B[43m,\u001B[49m\u001B[43m \u001B[49m\u001B[43mschool\u001B[49m\u001B[43m)\u001B[49m\n\u001B[1;32m    107\u001B[0m \u001B[38;5;28;01melif\u001B[39;00m data\u001B[38;5;241m.\u001B[39mage \u001B[38;5;241m<\u001B[39m \u001B[38;5;241m4\u001B[39m:\n\u001B[1;32m    108\u001B[0m     \u001B[38;5;66;03m#print(\"daycare\")\u001B[39;00m\n\u001B[1;32m    109\u001B[0m     \u001B[38;5;28;01mreturn\u001B[39;00m find_eduid(data\u001B[38;5;241m.\u001B[39mlat, data\u001B[38;5;241m.\u001B[39mlong, data\u001B[38;5;241m.\u001B[39mgeometry, daycare)\n",
      "Cell \u001B[0;32mIn[123], line 117\u001B[0m, in \u001B[0;36mfind_eduid\u001B[0;34m(x, y, position, edu_site)\u001B[0m\n\u001B[1;32m    115\u001B[0m \u001B[38;5;28;01mdef\u001B[39;00m \u001B[38;5;21mfind_eduid\u001B[39m (x, y, position, edu_site):\n\u001B[1;32m    116\u001B[0m     buff \u001B[38;5;241m=\u001B[39m position\u001B[38;5;241m.\u001B[39mbuffer(\u001B[38;5;241m0.08\u001B[39m)\n\u001B[0;32m--> 117\u001B[0m     s_in \u001B[38;5;241m=\u001B[39m \u001B[43medu_site\u001B[49m\u001B[43m[\u001B[49m\u001B[43medu_site\u001B[49m\u001B[38;5;241;43m.\u001B[39;49m\u001B[43mintersects\u001B[49m\u001B[43m(\u001B[49m\u001B[43mbuff\u001B[49m\u001B[43m)\u001B[49m\u001B[43m]\u001B[49m\u001B[38;5;241;43m.\u001B[39;49m\u001B[43mcopy\u001B[49m\u001B[43m(\u001B[49m\u001B[43m)\u001B[49m\n\u001B[1;32m    119\u001B[0m     \u001B[38;5;28;01mif\u001B[39;00m \u001B[38;5;28mlen\u001B[39m(s_in) \u001B[38;5;241m==\u001B[39m \u001B[38;5;241m0\u001B[39m:\n\u001B[1;32m    120\u001B[0m         buff \u001B[38;5;241m=\u001B[39m position\u001B[38;5;241m.\u001B[39mbuffer(\u001B[38;5;241m0.2\u001B[39m)\n",
      "File \u001B[0;32m~/PycharmProjects/pythonProject/ny-s-pop/venv/lib/python3.8/site-packages/geopandas/geodataframe.py:1545\u001B[0m, in \u001B[0;36mGeoDataFrame.copy\u001B[0;34m(self, deep)\u001B[0m\n\u001B[1;32m   1543\u001B[0m \u001B[38;5;129m@doc\u001B[39m(pd\u001B[38;5;241m.\u001B[39mDataFrame)\n\u001B[1;32m   1544\u001B[0m \u001B[38;5;28;01mdef\u001B[39;00m \u001B[38;5;21mcopy\u001B[39m(\u001B[38;5;28mself\u001B[39m, deep\u001B[38;5;241m=\u001B[39m\u001B[38;5;28;01mTrue\u001B[39;00m):\n\u001B[0;32m-> 1545\u001B[0m     copied \u001B[38;5;241m=\u001B[39m \u001B[38;5;28;43msuper\u001B[39;49m\u001B[43m(\u001B[49m\u001B[43m)\u001B[49m\u001B[38;5;241;43m.\u001B[39;49m\u001B[43mcopy\u001B[49m\u001B[43m(\u001B[49m\u001B[43mdeep\u001B[49m\u001B[38;5;241;43m=\u001B[39;49m\u001B[43mdeep\u001B[49m\u001B[43m)\u001B[49m\n\u001B[1;32m   1546\u001B[0m     \u001B[38;5;28;01mif\u001B[39;00m \u001B[38;5;28mtype\u001B[39m(copied) \u001B[38;5;129;01mis\u001B[39;00m pd\u001B[38;5;241m.\u001B[39mDataFrame:\n\u001B[1;32m   1547\u001B[0m         copied\u001B[38;5;241m.\u001B[39m\u001B[38;5;18m__class__\u001B[39m \u001B[38;5;241m=\u001B[39m GeoDataFrame\n",
      "File \u001B[0;32m~/PycharmProjects/pythonProject/ny-s-pop/venv/lib/python3.8/site-packages/pandas/core/generic.py:6454\u001B[0m, in \u001B[0;36mNDFrame.copy\u001B[0;34m(self, deep)\u001B[0m\n\u001B[1;32m   6452\u001B[0m data \u001B[38;5;241m=\u001B[39m \u001B[38;5;28mself\u001B[39m\u001B[38;5;241m.\u001B[39m_mgr\u001B[38;5;241m.\u001B[39mcopy(deep\u001B[38;5;241m=\u001B[39mdeep)\n\u001B[1;32m   6453\u001B[0m \u001B[38;5;28mself\u001B[39m\u001B[38;5;241m.\u001B[39m_clear_item_cache()\n\u001B[0;32m-> 6454\u001B[0m \u001B[38;5;28;01mreturn\u001B[39;00m \u001B[38;5;28;43mself\u001B[39;49m\u001B[38;5;241;43m.\u001B[39;49m\u001B[43m_constructor\u001B[49m\u001B[43m(\u001B[49m\u001B[43mdata\u001B[49m\u001B[43m)\u001B[49m\u001B[38;5;241m.\u001B[39m__finalize__(\u001B[38;5;28mself\u001B[39m, method\u001B[38;5;241m=\u001B[39m\u001B[38;5;124m\"\u001B[39m\u001B[38;5;124mcopy\u001B[39m\u001B[38;5;124m\"\u001B[39m)\n",
      "File \u001B[0;32m~/PycharmProjects/pythonProject/ny-s-pop/venv/lib/python3.8/site-packages/geopandas/geodataframe.py:29\u001B[0m, in \u001B[0;36m_geodataframe_constructor_with_fallback\u001B[0;34m(*args, **kwargs)\u001B[0m\n\u001B[1;32m     23\u001B[0m \u001B[38;5;28;01mdef\u001B[39;00m \u001B[38;5;21m_geodataframe_constructor_with_fallback\u001B[39m(\u001B[38;5;241m*\u001B[39margs, \u001B[38;5;241m*\u001B[39m\u001B[38;5;241m*\u001B[39mkwargs):\n\u001B[1;32m     24\u001B[0m \u001B[38;5;250m    \u001B[39m\u001B[38;5;124;03m\"\"\"\u001B[39;00m\n\u001B[1;32m     25\u001B[0m \u001B[38;5;124;03m    A flexible constructor for GeoDataFrame._constructor, which falls back\u001B[39;00m\n\u001B[1;32m     26\u001B[0m \u001B[38;5;124;03m    to returning a DataFrame (if a certain operation does not preserve the\u001B[39;00m\n\u001B[1;32m     27\u001B[0m \u001B[38;5;124;03m    geometry column)\u001B[39;00m\n\u001B[1;32m     28\u001B[0m \u001B[38;5;124;03m    \"\"\"\u001B[39;00m\n\u001B[0;32m---> 29\u001B[0m     df \u001B[38;5;241m=\u001B[39m \u001B[43mGeoDataFrame\u001B[49m\u001B[43m(\u001B[49m\u001B[38;5;241;43m*\u001B[39;49m\u001B[43margs\u001B[49m\u001B[43m,\u001B[49m\u001B[43m \u001B[49m\u001B[38;5;241;43m*\u001B[39;49m\u001B[38;5;241;43m*\u001B[39;49m\u001B[43mkwargs\u001B[49m\u001B[43m)\u001B[49m\n\u001B[1;32m     30\u001B[0m     geometry_cols_mask \u001B[38;5;241m=\u001B[39m df\u001B[38;5;241m.\u001B[39mdtypes \u001B[38;5;241m==\u001B[39m \u001B[38;5;124m\"\u001B[39m\u001B[38;5;124mgeometry\u001B[39m\u001B[38;5;124m\"\u001B[39m\n\u001B[1;32m     31\u001B[0m     \u001B[38;5;28;01mif\u001B[39;00m \u001B[38;5;28mlen\u001B[39m(geometry_cols_mask) \u001B[38;5;241m==\u001B[39m \u001B[38;5;241m0\u001B[39m \u001B[38;5;129;01mor\u001B[39;00m geometry_cols_mask\u001B[38;5;241m.\u001B[39msum() \u001B[38;5;241m==\u001B[39m \u001B[38;5;241m0\u001B[39m:\n",
      "File \u001B[0;32m~/PycharmProjects/pythonProject/ny-s-pop/venv/lib/python3.8/site-packages/geopandas/geodataframe.py:176\u001B[0m, in \u001B[0;36mGeoDataFrame.__init__\u001B[0;34m(self, data, geometry, crs, *args, **kwargs)\u001B[0m\n\u001B[1;32m    169\u001B[0m     \u001B[38;5;28;01mif\u001B[39;00m (\n\u001B[1;32m    170\u001B[0m         \u001B[38;5;28mhasattr\u001B[39m(\u001B[38;5;28mself\u001B[39m[\u001B[38;5;124m\"\u001B[39m\u001B[38;5;124mgeometry\u001B[39m\u001B[38;5;124m\"\u001B[39m]\u001B[38;5;241m.\u001B[39mvalues, \u001B[38;5;124m\"\u001B[39m\u001B[38;5;124mcrs\u001B[39m\u001B[38;5;124m\"\u001B[39m)\n\u001B[1;32m    171\u001B[0m         \u001B[38;5;129;01mand\u001B[39;00m \u001B[38;5;28mself\u001B[39m[\u001B[38;5;124m\"\u001B[39m\u001B[38;5;124mgeometry\u001B[39m\u001B[38;5;124m\"\u001B[39m]\u001B[38;5;241m.\u001B[39mvalues\u001B[38;5;241m.\u001B[39mcrs\n\u001B[1;32m    172\u001B[0m         \u001B[38;5;129;01mand\u001B[39;00m crs\n\u001B[1;32m    173\u001B[0m         \u001B[38;5;129;01mand\u001B[39;00m \u001B[38;5;129;01mnot\u001B[39;00m \u001B[38;5;28mself\u001B[39m[\u001B[38;5;124m\"\u001B[39m\u001B[38;5;124mgeometry\u001B[39m\u001B[38;5;124m\"\u001B[39m]\u001B[38;5;241m.\u001B[39mvalues\u001B[38;5;241m.\u001B[39mcrs \u001B[38;5;241m==\u001B[39m crs\n\u001B[1;32m    174\u001B[0m     ):\n\u001B[1;32m    175\u001B[0m         \u001B[38;5;28;01mraise\u001B[39;00m \u001B[38;5;167;01mValueError\u001B[39;00m(crs_mismatch_error)\n\u001B[0;32m--> 176\u001B[0m     \u001B[38;5;28;43mself\u001B[39;49m\u001B[43m[\u001B[49m\u001B[38;5;124;43m\"\u001B[39;49m\u001B[38;5;124;43mgeometry\u001B[39;49m\u001B[38;5;124;43m\"\u001B[39;49m\u001B[43m]\u001B[49m \u001B[38;5;241m=\u001B[39m _ensure_geometry(\u001B[38;5;28mself\u001B[39m[\u001B[38;5;124m\"\u001B[39m\u001B[38;5;124mgeometry\u001B[39m\u001B[38;5;124m\"\u001B[39m]\u001B[38;5;241m.\u001B[39mvalues, crs)\n\u001B[1;32m    177\u001B[0m \u001B[38;5;28;01mexcept\u001B[39;00m \u001B[38;5;167;01mTypeError\u001B[39;00m:\n\u001B[1;32m    178\u001B[0m     \u001B[38;5;28;01mpass\u001B[39;00m\n",
      "File \u001B[0;32m~/PycharmProjects/pythonProject/ny-s-pop/venv/lib/python3.8/site-packages/geopandas/geodataframe.py:1532\u001B[0m, in \u001B[0;36mGeoDataFrame.__setitem__\u001B[0;34m(self, key, value)\u001B[0m\n\u001B[1;32m   1530\u001B[0m     value \u001B[38;5;241m=\u001B[39m [value] \u001B[38;5;241m*\u001B[39m \u001B[38;5;28mself\u001B[39m\u001B[38;5;241m.\u001B[39mshape[\u001B[38;5;241m0\u001B[39m]\n\u001B[1;32m   1531\u001B[0m \u001B[38;5;28;01mtry\u001B[39;00m:\n\u001B[0;32m-> 1532\u001B[0m     crs \u001B[38;5;241m=\u001B[39m \u001B[38;5;28;43mgetattr\u001B[39;49m\u001B[43m(\u001B[49m\u001B[38;5;28;43mself\u001B[39;49m\u001B[43m,\u001B[49m\u001B[43m \u001B[49m\u001B[38;5;124;43m\"\u001B[39;49m\u001B[38;5;124;43mcrs\u001B[39;49m\u001B[38;5;124;43m\"\u001B[39;49m\u001B[43m,\u001B[49m\u001B[43m \u001B[49m\u001B[38;5;28;43;01mNone\u001B[39;49;00m\u001B[43m)\u001B[49m\n\u001B[1;32m   1533\u001B[0m     value \u001B[38;5;241m=\u001B[39m _ensure_geometry(value, crs\u001B[38;5;241m=\u001B[39mcrs)\n\u001B[1;32m   1534\u001B[0m     \u001B[38;5;28;01mif\u001B[39;00m key \u001B[38;5;241m==\u001B[39m \u001B[38;5;124m\"\u001B[39m\u001B[38;5;124mgeometry\u001B[39m\u001B[38;5;124m\"\u001B[39m:\n",
      "File \u001B[0;32m~/PycharmProjects/pythonProject/ny-s-pop/venv/lib/python3.8/site-packages/geopandas/geodataframe.py:436\u001B[0m, in \u001B[0;36mGeoDataFrame.crs\u001B[0;34m(self)\u001B[0m\n\u001B[1;32m    403\u001B[0m \u001B[38;5;250m\u001B[39m\u001B[38;5;124;03m\"\"\"\u001B[39;00m\n\u001B[1;32m    404\u001B[0m \u001B[38;5;124;03mThe Coordinate Reference System (CRS) represented as a ``pyproj.CRS``\u001B[39;00m\n\u001B[1;32m    405\u001B[0m \u001B[38;5;124;03mobject.\u001B[39;00m\n\u001B[0;32m   (...)\u001B[0m\n\u001B[1;32m    433\u001B[0m \n\u001B[1;32m    434\u001B[0m \u001B[38;5;124;03m\"\"\"\u001B[39;00m\n\u001B[1;32m    435\u001B[0m \u001B[38;5;28;01mtry\u001B[39;00m:\n\u001B[0;32m--> 436\u001B[0m     \u001B[38;5;28;01mreturn\u001B[39;00m \u001B[38;5;28;43mself\u001B[39;49m\u001B[38;5;241;43m.\u001B[39;49m\u001B[43mgeometry\u001B[49m\u001B[38;5;241m.\u001B[39mcrs\n\u001B[1;32m    437\u001B[0m \u001B[38;5;28;01mexcept\u001B[39;00m \u001B[38;5;167;01mAttributeError\u001B[39;00m:\n\u001B[1;32m    438\u001B[0m     \u001B[38;5;28;01mraise\u001B[39;00m \u001B[38;5;167;01mAttributeError\u001B[39;00m(\n\u001B[1;32m    439\u001B[0m         \u001B[38;5;124m\"\u001B[39m\u001B[38;5;124mThe CRS attribute of a GeoDataFrame without an active \u001B[39m\u001B[38;5;124m\"\u001B[39m\n\u001B[1;32m    440\u001B[0m         \u001B[38;5;124m\"\u001B[39m\u001B[38;5;124mgeometry column is not defined. Use GeoDataFrame.set_geometry \u001B[39m\u001B[38;5;124m\"\u001B[39m\n\u001B[1;32m    441\u001B[0m         \u001B[38;5;124m\"\u001B[39m\u001B[38;5;124mto set the active geometry column.\u001B[39m\u001B[38;5;124m\"\u001B[39m\n\u001B[1;32m    442\u001B[0m     )\n",
      "File \u001B[0;32m~/PycharmProjects/pythonProject/ny-s-pop/venv/lib/python3.8/site-packages/geopandas/geodataframe.py:220\u001B[0m, in \u001B[0;36mGeoDataFrame._get_geometry\u001B[0;34m(self)\u001B[0m\n\u001B[1;32m    214\u001B[0m \u001B[38;5;28;01melse\u001B[39;00m:\n\u001B[1;32m    215\u001B[0m     msg \u001B[38;5;241m=\u001B[39m (\n\u001B[1;32m    216\u001B[0m         \u001B[38;5;124m\"\u001B[39m\u001B[38;5;124mYou are calling a geospatial method on the GeoDataFrame, \u001B[39m\u001B[38;5;124m\"\u001B[39m\n\u001B[1;32m    217\u001B[0m         \u001B[38;5;124mf\u001B[39m\u001B[38;5;124m\"\u001B[39m\u001B[38;5;124mbut the active geometry column (\u001B[39m\u001B[38;5;124m'\u001B[39m\u001B[38;5;132;01m{\u001B[39;00m\u001B[38;5;28mself\u001B[39m\u001B[38;5;241m.\u001B[39m_geometry_column_name\u001B[38;5;132;01m}\u001B[39;00m\u001B[38;5;124m'\u001B[39m\u001B[38;5;124m) \u001B[39m\u001B[38;5;124m\"\u001B[39m\n\u001B[1;32m    218\u001B[0m         \u001B[38;5;124m\"\u001B[39m\u001B[38;5;124mis not present. \u001B[39m\u001B[38;5;124m\"\u001B[39m\n\u001B[1;32m    219\u001B[0m     )\n\u001B[0;32m--> 220\u001B[0m geo_cols \u001B[38;5;241m=\u001B[39m \u001B[38;5;28mlist\u001B[39m(\u001B[38;5;28mself\u001B[39m\u001B[38;5;241m.\u001B[39mcolumns[\u001B[38;5;28;43mself\u001B[39;49m\u001B[38;5;241;43m.\u001B[39;49m\u001B[43mdtypes\u001B[49m\u001B[43m \u001B[49m\u001B[38;5;241;43m==\u001B[39;49m\u001B[43m \u001B[49m\u001B[38;5;124;43m\"\u001B[39;49m\u001B[38;5;124;43mgeometry\u001B[39;49m\u001B[38;5;124;43m\"\u001B[39;49m])\n\u001B[1;32m    221\u001B[0m \u001B[38;5;28;01mif\u001B[39;00m \u001B[38;5;28mlen\u001B[39m(geo_cols) \u001B[38;5;241m>\u001B[39m \u001B[38;5;241m0\u001B[39m:\n\u001B[1;32m    222\u001B[0m     msg \u001B[38;5;241m+\u001B[39m\u001B[38;5;241m=\u001B[39m (\n\u001B[1;32m    223\u001B[0m         \u001B[38;5;124mf\u001B[39m\u001B[38;5;124m\"\u001B[39m\u001B[38;5;130;01m\\n\u001B[39;00m\u001B[38;5;124mThere are columns with geometry data type (\u001B[39m\u001B[38;5;132;01m{\u001B[39;00mgeo_cols\u001B[38;5;132;01m}\u001B[39;00m\u001B[38;5;124m), and \u001B[39m\u001B[38;5;124m\"\u001B[39m\n\u001B[1;32m    224\u001B[0m         \u001B[38;5;124m\"\u001B[39m\u001B[38;5;124myou can either set one as the active geometry with \u001B[39m\u001B[38;5;124m\"\u001B[39m\n\u001B[1;32m    225\u001B[0m         \u001B[38;5;124m'\u001B[39m\u001B[38;5;124mdf.set_geometry(\u001B[39m\u001B[38;5;124m\"\u001B[39m\u001B[38;5;124mname\u001B[39m\u001B[38;5;124m\"\u001B[39m\u001B[38;5;124m) or access the column as a \u001B[39m\u001B[38;5;124m'\u001B[39m\n\u001B[1;32m    226\u001B[0m         \u001B[38;5;124m'\u001B[39m\u001B[38;5;124mGeoSeries (df[\u001B[39m\u001B[38;5;124m\"\u001B[39m\u001B[38;5;124mname\u001B[39m\u001B[38;5;124m\"\u001B[39m\u001B[38;5;124m]) and call the method directly on it.\u001B[39m\u001B[38;5;124m'\u001B[39m\n\u001B[1;32m    227\u001B[0m     )\n",
      "File \u001B[0;32m~/PycharmProjects/pythonProject/ny-s-pop/venv/lib/python3.8/site-packages/pandas/core/ops/common.py:81\u001B[0m, in \u001B[0;36m_unpack_zerodim_and_defer.<locals>.new_method\u001B[0;34m(self, other)\u001B[0m\n\u001B[1;32m     77\u001B[0m             \u001B[38;5;28;01mreturn\u001B[39;00m \u001B[38;5;28mNotImplemented\u001B[39m\n\u001B[1;32m     79\u001B[0m other \u001B[38;5;241m=\u001B[39m item_from_zerodim(other)\n\u001B[0;32m---> 81\u001B[0m \u001B[38;5;28;01mreturn\u001B[39;00m \u001B[43mmethod\u001B[49m\u001B[43m(\u001B[49m\u001B[38;5;28;43mself\u001B[39;49m\u001B[43m,\u001B[49m\u001B[43m \u001B[49m\u001B[43mother\u001B[49m\u001B[43m)\u001B[49m\n",
      "File \u001B[0;32m~/PycharmProjects/pythonProject/ny-s-pop/venv/lib/python3.8/site-packages/pandas/core/arraylike.py:40\u001B[0m, in \u001B[0;36mOpsMixin.__eq__\u001B[0;34m(self, other)\u001B[0m\n\u001B[1;32m     38\u001B[0m \u001B[38;5;129m@unpack_zerodim_and_defer\u001B[39m(\u001B[38;5;124m\"\u001B[39m\u001B[38;5;124m__eq__\u001B[39m\u001B[38;5;124m\"\u001B[39m)\n\u001B[1;32m     39\u001B[0m \u001B[38;5;28;01mdef\u001B[39;00m \u001B[38;5;21m__eq__\u001B[39m(\u001B[38;5;28mself\u001B[39m, other):\n\u001B[0;32m---> 40\u001B[0m     \u001B[38;5;28;01mreturn\u001B[39;00m \u001B[38;5;28;43mself\u001B[39;49m\u001B[38;5;241;43m.\u001B[39;49m\u001B[43m_cmp_method\u001B[49m\u001B[43m(\u001B[49m\u001B[43mother\u001B[49m\u001B[43m,\u001B[49m\u001B[43m \u001B[49m\u001B[43moperator\u001B[49m\u001B[38;5;241;43m.\u001B[39;49m\u001B[43meq\u001B[49m\u001B[43m)\u001B[49m\n",
      "File \u001B[0;32m~/PycharmProjects/pythonProject/ny-s-pop/venv/lib/python3.8/site-packages/pandas/core/series.py:6098\u001B[0m, in \u001B[0;36mSeries._cmp_method\u001B[0;34m(self, other, op)\u001B[0m\n\u001B[1;32m   6095\u001B[0m \u001B[38;5;28;01mwith\u001B[39;00m np\u001B[38;5;241m.\u001B[39merrstate(\u001B[38;5;28mall\u001B[39m\u001B[38;5;241m=\u001B[39m\u001B[38;5;124m\"\u001B[39m\u001B[38;5;124mignore\u001B[39m\u001B[38;5;124m\"\u001B[39m):\n\u001B[1;32m   6096\u001B[0m     res_values \u001B[38;5;241m=\u001B[39m ops\u001B[38;5;241m.\u001B[39mcomparison_op(lvalues, rvalues, op)\n\u001B[0;32m-> 6098\u001B[0m \u001B[38;5;28;01mreturn\u001B[39;00m \u001B[38;5;28;43mself\u001B[39;49m\u001B[38;5;241;43m.\u001B[39;49m\u001B[43m_construct_result\u001B[49m\u001B[43m(\u001B[49m\u001B[43mres_values\u001B[49m\u001B[43m,\u001B[49m\u001B[43m \u001B[49m\u001B[43mname\u001B[49m\u001B[38;5;241;43m=\u001B[39;49m\u001B[43mres_name\u001B[49m\u001B[43m)\u001B[49m\n",
      "File \u001B[0;32m~/PycharmProjects/pythonProject/ny-s-pop/venv/lib/python3.8/site-packages/pandas/core/series.py:3105\u001B[0m, in \u001B[0;36mSeries._construct_result\u001B[0;34m(self, result, name)\u001B[0m\n\u001B[1;32m   3102\u001B[0m \u001B[38;5;66;03m# TODO: result should always be ArrayLike, but this fails for some\u001B[39;00m\n\u001B[1;32m   3103\u001B[0m \u001B[38;5;66;03m#  JSONArray tests\u001B[39;00m\n\u001B[1;32m   3104\u001B[0m dtype \u001B[38;5;241m=\u001B[39m \u001B[38;5;28mgetattr\u001B[39m(result, \u001B[38;5;124m\"\u001B[39m\u001B[38;5;124mdtype\u001B[39m\u001B[38;5;124m\"\u001B[39m, \u001B[38;5;28;01mNone\u001B[39;00m)\n\u001B[0;32m-> 3105\u001B[0m out \u001B[38;5;241m=\u001B[39m \u001B[38;5;28;43mself\u001B[39;49m\u001B[38;5;241;43m.\u001B[39;49m\u001B[43m_constructor\u001B[49m\u001B[43m(\u001B[49m\u001B[43mresult\u001B[49m\u001B[43m,\u001B[49m\u001B[43m \u001B[49m\u001B[43mindex\u001B[49m\u001B[38;5;241;43m=\u001B[39;49m\u001B[38;5;28;43mself\u001B[39;49m\u001B[38;5;241;43m.\u001B[39;49m\u001B[43mindex\u001B[49m\u001B[43m,\u001B[49m\u001B[43m \u001B[49m\u001B[43mdtype\u001B[49m\u001B[38;5;241;43m=\u001B[39;49m\u001B[43mdtype\u001B[49m\u001B[43m)\u001B[49m\n\u001B[1;32m   3106\u001B[0m out \u001B[38;5;241m=\u001B[39m out\u001B[38;5;241m.\u001B[39m__finalize__(\u001B[38;5;28mself\u001B[39m)\n\u001B[1;32m   3108\u001B[0m \u001B[38;5;66;03m# Set the result's name after __finalize__ is called because __finalize__\u001B[39;00m\n\u001B[1;32m   3109\u001B[0m \u001B[38;5;66;03m#  would set it back to self.name\u001B[39;00m\n",
      "File \u001B[0;32m~/PycharmProjects/pythonProject/ny-s-pop/venv/lib/python3.8/site-packages/pandas/core/series.py:499\u001B[0m, in \u001B[0;36mSeries.__init__\u001B[0;34m(self, data, index, dtype, name, copy, fastpath)\u001B[0m\n\u001B[1;32m    497\u001B[0m         data \u001B[38;5;241m=\u001B[39m [data]\n\u001B[1;32m    498\u001B[0m     index \u001B[38;5;241m=\u001B[39m default_index(\u001B[38;5;28mlen\u001B[39m(data))\n\u001B[0;32m--> 499\u001B[0m \u001B[38;5;28;01melif\u001B[39;00m \u001B[43mis_list_like\u001B[49m(data):\n\u001B[1;32m    500\u001B[0m     com\u001B[38;5;241m.\u001B[39mrequire_length_match(data, index)\n\u001B[1;32m    502\u001B[0m \u001B[38;5;66;03m# create/copy the manager\u001B[39;00m\n",
      "\u001B[0;31mKeyboardInterrupt\u001B[0m: "
     ]
    }
   ],
   "source": [
    "print('Start running...')\n",
    "#set timer\n",
    "start_time = timeit.default_timer()\n",
    "pop_gdf['wp'] = pop_gdf.apply(assign_school,args=(school_gdf, dc_gdf),axis=1)\n",
    "elapsed = timeit.default_timer() - start_time\n",
    "print(\"Total Time(s):\", elapsed)\n",
    "print('End program')"
   ]
  },
  {
   "cell_type": "code",
   "execution_count": 48,
   "metadata": {},
   "outputs": [
    {
     "data": {
      "text/plain": [
       "(907959, 9)"
      ]
     },
     "execution_count": 48,
     "metadata": {},
     "output_type": "execute_result"
    }
   ],
   "source": [
    "pop_gdf.shape"
   ]
  },
  {
   "cell_type": "code",
   "execution_count": null,
   "outputs": [],
   "source": [],
   "metadata": {
    "collapsed": false
   }
  },
  {
   "cell_type": "code",
   "execution_count": null,
   "outputs": [],
   "source": [],
   "metadata": {
    "collapsed": false
   }
  },
  {
   "cell_type": "code",
   "execution_count": 49,
   "metadata": {},
   "outputs": [],
   "source": [
    "final_pop.to_csv('../results/ERIE_pop_w_id.csv')"
   ]
  },
  {
   "cell_type": "markdown",
   "metadata": {},
   "source": [
    "### 3.3 Apply Assign School ID funtion"
   ]
  },
  {
   "cell_type": "code",
   "execution_count": null,
   "metadata": {},
   "outputs": [],
   "source": [
    "def assign_ID(data):\n",
    "    data['wp'] = data.apply(assign_school,args=(census, sch_df),axis=1)\n",
    "    return data\n",
    "\n",
    "def parallelize(data, func):\n",
    "    #Cores\n",
    "    num_cores = 7\n",
    "    num_partitions = num_cores\n",
    "    #Split\n",
    "    data_split = np.array_split(data, num_partitions)\n",
    "    #Pools\n",
    "    pool = multiprocessing.Pool(num_cores)\n",
    "    \n",
    "    df = pd.concat(pool.map(func, data_split))\n",
    "    return df\n",
    "\n",
    "    pool.close()\n",
    "    pool.join()\n",
    "    \n",
    "if __name__=='__main__':\n",
    "    print('Start running...')\n",
    "    #set timer\n",
    "    start_time = timeit.default_timer()\n",
    "    \n",
    "    #apply\n",
    "    g_sch_k['tract'] = g_sch_k['hhold'].str[0:11]\n",
    "    print(g_sch_k.head())\n",
    "    \n",
    "    n_g_sch_k = parallelize(g_sch_k, assign_ID)\n",
    "    \n",
    "    elapsed = timeit.default_timer() - start_time\n",
    "    print(\"Total Time(s):\", elapsed)\n",
    "    print('End program')"
   ]
  },
  {
   "cell_type": "code",
   "execution_count": null,
   "outputs": [],
   "source": [],
   "metadata": {
    "collapsed": false
   }
  }
 ],
 "metadata": {
  "kernelspec": {
   "display_name": "Python 3 (ipykernel)",
   "language": "python",
   "name": "python3"
  },
  "language_info": {
   "codemirror_mode": {
    "name": "ipython",
    "version": 3
   },
   "file_extension": ".py",
   "mimetype": "text/x-python",
   "name": "python",
   "nbconvert_exporter": "python",
   "pygments_lexer": "ipython3",
   "version": "3.9.7"
  }
 },
 "nbformat": 4,
 "nbformat_minor": 4
}
