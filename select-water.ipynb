{
 "cells": [
  {
   "cell_type": "code",
   "execution_count": 1,
   "outputs": [],
   "source": [
    "import geopandas as gpd\n",
    "import pandas as pd"
   ],
   "metadata": {
    "collapsed": false,
    "ExecuteTime": {
     "end_time": "2023-07-19T14:46:41.478467Z",
     "start_time": "2023-07-19T14:46:40.038072Z"
    }
   }
  },
  {
   "cell_type": "code",
   "execution_count": 2,
   "outputs": [
    {
     "data": {
      "text/plain": "   OBJECTID NAME        FTYPE  FCODE  \\\n0         1  NaN  Canal/Ditch  33600   \n1         2  NaN    Lake/Pond  39004   \n2         3  NaN    Lake/Pond  39004   \n3         4  NaN    Lake/Pond  39004   \n4         5  NaN    Lake/Pond  39004   \n\n                                     FCODE_DESC  SQKM  SQMI  \\\n0                                   Canal/Ditch  0.13  0.05   \n1  Lake/Pond: Hydrographic Category = Perennial  0.02  0.01   \n2  Lake/Pond: Hydrographic Category = Perennial  0.02  0.01   \n3  Lake/Pond: Hydrographic Category = Perennial  0.02  0.01   \n4  Lake/Pond: Hydrographic Category = Perennial  0.39  0.15   \n\n                                            geometry  \n0  POLYGON ((-157.82567 21.28291, -157.82560 21.2...  \n1  POLYGON ((-158.02294 21.36398, -158.02338 21.3...  \n2  POLYGON ((-158.03806 21.36422, -158.03813 21.3...  \n3  POLYGON ((-158.03420 21.34921, -158.03395 21.3...  \n4  POLYGON ((-157.73039 21.38151, -157.73041 21.3...  ",
      "text/html": "<div>\n<style scoped>\n    .dataframe tbody tr th:only-of-type {\n        vertical-align: middle;\n    }\n\n    .dataframe tbody tr th {\n        vertical-align: top;\n    }\n\n    .dataframe thead th {\n        text-align: right;\n    }\n</style>\n<table border=\"1\" class=\"dataframe\">\n  <thead>\n    <tr style=\"text-align: right;\">\n      <th></th>\n      <th>OBJECTID</th>\n      <th>NAME</th>\n      <th>FTYPE</th>\n      <th>FCODE</th>\n      <th>FCODE_DESC</th>\n      <th>SQKM</th>\n      <th>SQMI</th>\n      <th>geometry</th>\n    </tr>\n  </thead>\n  <tbody>\n    <tr>\n      <th>0</th>\n      <td>1</td>\n      <td>NaN</td>\n      <td>Canal/Ditch</td>\n      <td>33600</td>\n      <td>Canal/Ditch</td>\n      <td>0.13</td>\n      <td>0.05</td>\n      <td>POLYGON ((-157.82567 21.28291, -157.82560 21.2...</td>\n    </tr>\n    <tr>\n      <th>1</th>\n      <td>2</td>\n      <td>NaN</td>\n      <td>Lake/Pond</td>\n      <td>39004</td>\n      <td>Lake/Pond: Hydrographic Category = Perennial</td>\n      <td>0.02</td>\n      <td>0.01</td>\n      <td>POLYGON ((-158.02294 21.36398, -158.02338 21.3...</td>\n    </tr>\n    <tr>\n      <th>2</th>\n      <td>3</td>\n      <td>NaN</td>\n      <td>Lake/Pond</td>\n      <td>39004</td>\n      <td>Lake/Pond: Hydrographic Category = Perennial</td>\n      <td>0.02</td>\n      <td>0.01</td>\n      <td>POLYGON ((-158.03806 21.36422, -158.03813 21.3...</td>\n    </tr>\n    <tr>\n      <th>3</th>\n      <td>4</td>\n      <td>NaN</td>\n      <td>Lake/Pond</td>\n      <td>39004</td>\n      <td>Lake/Pond: Hydrographic Category = Perennial</td>\n      <td>0.02</td>\n      <td>0.01</td>\n      <td>POLYGON ((-158.03420 21.34921, -158.03395 21.3...</td>\n    </tr>\n    <tr>\n      <th>4</th>\n      <td>5</td>\n      <td>NaN</td>\n      <td>Lake/Pond</td>\n      <td>39004</td>\n      <td>Lake/Pond: Hydrographic Category = Perennial</td>\n      <td>0.39</td>\n      <td>0.15</td>\n      <td>POLYGON ((-157.73039 21.38151, -157.73041 21.3...</td>\n    </tr>\n  </tbody>\n</table>\n</div>"
     },
     "execution_count": 2,
     "metadata": {},
     "output_type": "execute_result"
    }
   ],
   "source": [
    "water = gpd.read_file(\"data/USA_Detailed_Water_Bodies/USA_Detailed_Water_Bodies.shp\")\n",
    "water.head()"
   ],
   "metadata": {
    "collapsed": false,
    "ExecuteTime": {
     "end_time": "2023-07-19T14:47:31.008844Z",
     "start_time": "2023-07-19T14:46:42.879007Z"
    }
   }
  },
  {
   "cell_type": "code",
   "execution_count": null,
   "outputs": [],
   "source": [],
   "metadata": {
    "collapsed": false
   }
  }
 ],
 "metadata": {
  "kernelspec": {
   "display_name": "Python 3",
   "language": "python",
   "name": "python3"
  },
  "language_info": {
   "codemirror_mode": {
    "name": "ipython",
    "version": 2
   },
   "file_extension": ".py",
   "mimetype": "text/x-python",
   "name": "python",
   "nbconvert_exporter": "python",
   "pygments_lexer": "ipython2",
   "version": "2.7.6"
  }
 },
 "nbformat": 4,
 "nbformat_minor": 0
}
