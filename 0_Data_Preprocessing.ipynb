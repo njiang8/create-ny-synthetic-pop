{
 "cells": [
  {
   "cell_type": "markdown",
   "metadata": {},
   "source": [
    "# Step 0:\n",
    "# Data Preproseccing\n",
    "* 1, Road Network Preprocessing\n",
    "* 2, Work Commute Data"
   ]
  },
  {
   "cell_type": "markdown",
   "metadata": {
    "tags": []
   },
   "source": [
    "## 0, Census"
   ]
  },
  {
   "cell_type": "code",
   "execution_count": null,
   "metadata": {},
   "outputs": [],
   "source": [
    "import geopandas as gpd"
   ]
  },
  {
   "cell_type": "code",
   "execution_count": null,
   "metadata": {},
   "outputs": [],
   "source": [
    "wcensus = gpd.read_file('Data/Tract_2010Census_DP1/Tract_2010Census_DP1.shp')\n",
    "wcensus.head()"
   ]
  },
  {
   "cell_type": "code",
   "execution_count": null,
   "metadata": {},
   "outputs": [],
   "source": [
    "ny = wcensus[wcensus['GEOID10'].str.startswith('36')].sort_values(by=['GEOID10']).reset_index(drop = True)\n",
    "ny.head()"
   ]
  },
  {
   "cell_type": "code",
   "execution_count": null,
   "metadata": {},
   "outputs": [],
   "source": [
    "ny.to_file('Data/NY_census_tract.shp')"
   ]
  },
  {
   "cell_type": "code",
   "execution_count": null,
   "outputs": [],
   "source": [
    "df = gpd.read_file('data/Erie_County_Census_Tract.shp')\n",
    "df.head()"
   ],
   "metadata": {
    "collapsed": false
   }
  },
  {
   "cell_type": "code",
   "execution_count": null,
   "outputs": [],
   "source": [
    "df[:5].to_csv('test_census10.csv')"
   ],
   "metadata": {
    "collapsed": false
   }
  },
  {
   "cell_type": "markdown",
   "metadata": {},
   "source": [
    "## 1, Road Networks"
   ]
  },
  {
   "cell_type": "code",
   "execution_count": null,
   "metadata": {},
   "outputs": [],
   "source": [
    "!pip install requests"
   ]
  },
  {
   "cell_type": "code",
   "execution_count": null,
   "metadata": {},
   "outputs": [],
   "source": [
    "!pip install wget"
   ]
  },
  {
   "cell_type": "code",
   "execution_count": null,
   "metadata": {},
   "outputs": [],
   "source": [
    "!pip install zipfile36"
   ]
  },
  {
   "cell_type": "markdown",
   "metadata": {},
   "source": [
    "### 1.1 Download Road shp"
   ]
  },
  {
   "cell_type": "code",
   "execution_count": null,
   "metadata": {},
   "outputs": [],
   "source": [
    "import os\n",
    "import requests"
   ]
  },
  {
   "cell_type": "code",
   "execution_count": null,
   "metadata": {},
   "outputs": [],
   "source": [
    "import wget\n",
    "url = 'https://www2.census.gov/geo/tiger/TIGER2020/ROADS/'\n",
    "for i in range(0,124):\n",
    "#for i in range(0,12):\n",
    "    if i % 2 != 0:\n",
    "        add = url + \"tl_2020_36\" + \"%03d\" % i + \"_roads.zip\"\n",
    "        #print(add)\n",
    "        wget.download(add)"
   ]
  },
  {
   "cell_type": "markdown",
   "metadata": {},
   "source": [
    "### 1.2 Extract files from .zip"
   ]
  },
  {
   "cell_type": "code",
   "execution_count": null,
   "metadata": {},
   "outputs": [],
   "source": [
    "loc = os.getcwd()\n",
    "os.listdir(loc)"
   ]
  },
  {
   "cell_type": "code",
   "execution_count": null,
   "metadata": {},
   "outputs": [],
   "source": [
    "import os, zipfile\n",
    "\n",
    "#dir_name = 'NY_Road_County'\n",
    "extension = \".zip\"\n",
    "\n",
    "#os.chdir(dir_name) # change directory from working dir to dir with files\n",
    "\n",
    "for item in os.listdir(loc): # loop through items in dir\n",
    "    if item.endswith(extension): # check for \".zip\" extension\n",
    "        file_name = os.path.abspath(item) # get full path of files\n",
    "        zip_ref = zipfile.ZipFile(file_name) # create zipfile object\n",
    "        zip_ref.extractall(dir_name) # extract file to dir\n",
    "        zip_ref.close() # close file\n",
    "        os.remove(file_name) # delete zipped file"
   ]
  },
  {
   "cell_type": "markdown",
   "metadata": {},
   "source": [
    "### 1.3 Read in multiple .shp file and Combine Road"
   ]
  },
  {
   "cell_type": "code",
   "execution_count": null,
   "metadata": {},
   "outputs": [],
   "source": [
    "import glob\n",
    "import os\n",
    "allFiles = glob.glob(os.path.join (\"*.shp\"))"
   ]
  },
  {
   "cell_type": "code",
   "execution_count": null,
   "metadata": {},
   "outputs": [],
   "source": [
    "len(allFiles)"
   ]
  },
  {
   "cell_type": "code",
   "execution_count": null,
   "metadata": {},
   "outputs": [],
   "source": [
    "list_ = []\n",
    "for file_ in allFiles:\n",
    "    df = gpd.read_file(file_,index_col=None, header=0)\n",
    "    print(df.shape)\n",
    "    list_.append(df)\n",
    "frame = pd.concat(list_, axis = 0, ignore_index = True)"
   ]
  },
  {
   "cell_type": "markdown",
   "metadata": {},
   "source": [
    "### 1.4 Clean Raod"
   ]
  },
  {
   "cell_type": "markdown",
   "metadata": {},
   "source": [
    "Three steps to clean and get the giant connected component from the road shapefile.\n",
    "\n",
    "- Run GRASS `v.clean.advanced` tools `snap,break,rmdupl,rmsa` with tolerance values `0.0001,0.0,0.0,0.0`, save the result to `cleaned.shp`\n",
    "- Run GRASS `v.net.components` tool (`weak` or `strong` does not matter since the network is undirected), save the result as `giant_component.csv`\n",
    "- Using geoPandas combine the two files (shp and csv), filter the roads in the giant component, and save the result as `gcc.shp`:"
   ]
  },
  {
   "cell_type": "code",
   "execution_count": null,
   "metadata": {},
   "outputs": [],
   "source": [
    "pwd "
   ]
  },
  {
   "cell_type": "code",
   "execution_count": null,
   "metadata": {},
   "outputs": [],
   "source": [
    "os.getcwd()\n",
    "#Desktop/Spop_data/Create_Synthetic_Population-master/0_Data_Preprocessing.ipynb\n",
    "os.chdir('/Users/richardjiang/Desktop/Spop_data/Create_Synthetic_Population-master/') "
   ]
  },
  {
   "cell_type": "code",
   "execution_count": null,
   "metadata": {},
   "outputs": [],
   "source": [
    "#components = pd.read_csv('../nWMDmap2/giant_component.csv', usecols=[0])\n",
    "#cleaned = gpd.read_file('../nWMDmap2/cleaned.shp')\n",
    "import geopandas as gpd\n",
    "import pandas as pd\n",
    "#os.chdir(owd)\n",
    "\n",
    "components = pd.read_csv('Data/Road_Clean/gaint_component/giant_component.csv', usecols=[0])\n",
    "cleaned = gpd.read_file('Data/Road_Clean/cleaned/cleaned.shp')"
   ]
  },
  {
   "cell_type": "code",
   "execution_count": null,
   "metadata": {},
   "outputs": [],
   "source": [
    "components.head()"
   ]
  },
  {
   "cell_type": "code",
   "execution_count": null,
   "metadata": {},
   "outputs": [],
   "source": [
    "cleaned.head()"
   ]
  },
  {
   "cell_type": "code",
   "execution_count": null,
   "metadata": {},
   "outputs": [],
   "source": [
    "cleaned.columns"
   ]
  },
  {
   "cell_type": "code",
   "execution_count": null,
   "metadata": {},
   "outputs": [],
   "source": [
    "col_list = ['LINEARID', 'MTFCC', 'geometry']"
   ]
  },
  {
   "cell_type": "code",
   "execution_count": null,
   "metadata": {},
   "outputs": [],
   "source": [
    "roads = cleaned.loc[:, col_list].join(components)\n",
    "roads.head()"
   ]
  },
  {
   "cell_type": "code",
   "execution_count": null,
   "metadata": {},
   "outputs": [],
   "source": [
    "#roads[roads.cat == 1610]\n",
    "#roads = roads[roads.comp == 1610].drop('comp',axis=1)\n",
    "\n",
    "roads.to_file('Data/ny_road_cleaned.shp')"
   ]
  },
  {
   "cell_type": "markdown",
   "metadata": {},
   "source": [
    "## 2, Work Commute Data\n",
    "\n",
    "To get inter-tract commuting data at census-tract level:\n",
    "\n",
    "- Download the datasets (6*2 = 12 files in total)\n",
    "- Aggregate them at tract level (originial data is at block level, i.e. more granular)\n",
    "- Remove unincluded tracts\n"
   ]
  },
  {
   "cell_type": "code",
   "execution_count": null,
   "metadata": {},
   "outputs": [],
   "source": [
    "import pandas as pd\n",
    "import geopandas as gpd\n",
    "census = gpd.read_file('data/Erie_County_Census_Tract.shp')\n",
    "census.head()"
   ]
  },
  {
   "cell_type": "code",
   "execution_count": null,
   "outputs": [],
   "source": [
    "census[census.GEOID10 == '36029001900']"
   ],
   "metadata": {
    "collapsed": false
   }
  },
  {
   "cell_type": "code",
   "execution_count": null,
   "outputs": [],
   "source": [
    "# CREATE TRACT LEVEL O-D PAIRS\n",
    "work_home_in_ny = pd.read_csv('data/ny_od_main_JT00_2019.csv').iloc[:,0:6]\n",
    "len(work_home_in_ny)\n",
    "#GEOID: state(2)-county(3)-tract(6): e.g. 09-001-030300\n",
    "#census = gpd.read_file('../nWMDmap2/censusclip1.shp').set_index('GEOID10') #demographic profiles\n",
    "#read_workflow = partial(pd.read_csv,usecols=range(6),dtype={0:str,1:str})\\\n",
    "#read in data"
   ],
   "metadata": {
    "collapsed": false
   }
  },
  {
   "cell_type": "code",
   "execution_count": null,
   "outputs": [],
   "source": [
    "#wf = pd.concat([read_workflow(f) for f in glob('../od/*JT00*')]) #workflow\n",
    "work_home_in_ny['work'] = work_home_in_ny.w_geocode.astype(str).str[:11]\n",
    "work_home_in_ny['home'] = work_home_in_ny.h_geocode.astype(str).str[:11]\n",
    "work_home_in_ny.head()"
   ],
   "metadata": {
    "collapsed": false
   }
  },
  {
   "cell_type": "code",
   "execution_count": null,
   "outputs": [],
   "source": [
    "work_home_in_ny[:50]"
   ],
   "metadata": {
    "collapsed": false
   }
  },
  {
   "cell_type": "code",
   "execution_count": null,
   "outputs": [],
   "source": [
    "work_home_in_ny.h_geocode"
   ],
   "metadata": {
    "collapsed": false
   }
  },
  {
   "cell_type": "code",
   "execution_count": null,
   "outputs": [],
   "source": [
    "#od = wf[(wf.work.isin(census.GEOID10)) | (wf.home.isin(census.GEOID10))]\n",
    "        #.head()\n",
    "od_in_ny = work_home_in_ny[(work_home_in_ny.work.isin(census.GEOID10))]\n",
    "print(len(od_in_ny))"
   ],
   "metadata": {
    "collapsed": false
   }
  },
  {
   "cell_type": "code",
   "execution_count": null,
   "outputs": [],
   "source": [
    "od_in_ny.S000.sum()"
   ],
   "metadata": {
    "collapsed": false
   }
  },
  {
   "cell_type": "code",
   "execution_count": null,
   "outputs": [],
   "source": [
    "temp = od_in_ny.loc[:,['work','home','S000']]\n",
    "    #.groupby(['work']).sum()\n",
    "temp_group = temp.groupby(['work','home']).sum()\n",
    "#temp_group.first().to_csv('temp_group.csv')\n",
    "temp_group.S000.unique()"
   ],
   "metadata": {
    "collapsed": false
   }
  },
  {
   "cell_type": "code",
   "execution_count": null,
   "outputs": [],
   "source": [],
   "metadata": {
    "collapsed": false
   }
  },
  {
   "cell_type": "code",
   "execution_count": null,
   "outputs": [],
   "source": [
    "temp_group.get_group(36029000110)"
   ],
   "metadata": {
    "collapsed": false
   }
  },
  {
   "cell_type": "markdown",
   "source": [
    "We are interested in these columns only (ripping off the rest by `usecols=range(6)`):\n",
    "\n",
    "- S000: Total number of jobs\n",
    "- SA01: Number of jobs of workers age 29 or younger\n",
    "- SA02: Number of jobs for workers age 30 to 54\n",
    "- SA03: Number of jobs for workers age 55 or older"
   ],
   "metadata": {
    "collapsed": false
   }
  },
  {
   "cell_type": "code",
   "execution_count": null,
   "outputs": [],
   "source": [
    "import pandas as pd\n",
    "out_county = pd.read_csv('data/ny_od_aux_JT00_2019.csv').iloc[:,0:6]\n",
    "in_county = pd.read_csv('data/ny_od_main_JT00_2019.csv').iloc[:,0:6]"
   ],
   "metadata": {
    "collapsed": false
   }
  },
  {
   "cell_type": "code",
   "execution_count": null,
   "outputs": [],
   "source": [
    "work_home_in_out_ny = pd.concat([out_county, in_county]).reset_index(drop =True)\n",
    "#wf = pd.concat([read_workflow(f) for f in glob('../od/*JT00*')]) #workflow\n",
    "work_home_in_out_ny['work'] = work_home_in_out_ny.w_geocode.astype(str).str[:11]\n",
    "work_home_in_out_ny['home'] = work_home_in_out_ny.h_geocode.astype(str).str[:11]\n",
    "work_home_in_out_ny.head()"
   ],
   "metadata": {
    "collapsed": false
   }
  },
  {
   "cell_type": "code",
   "execution_count": null,
   "outputs": [],
   "source": [
    "#od = wf[(wf.work.isin(census.GEOID10)) | (wf.home.isin(census.GEOID10))]\n",
    "        #.head()\n",
    "od_in_out_ny = work_home_in_out_ny[(work_home_in_out_ny.work.isin(census.GEOID10))]\n",
    "print(len(od_in_out_ny))"
   ],
   "metadata": {
    "collapsed": false
   }
  },
  {
   "cell_type": "code",
   "execution_count": null,
   "outputs": [],
   "source": [
    "od_in_out_ny[od_in_out_ny.work == od_in_out_ny.home]"
   ],
   "metadata": {
    "collapsed": false
   }
  },
  {
   "cell_type": "code",
   "execution_count": null,
   "outputs": [],
   "source": [
    "od_in_out_ny.S000.sum()"
   ],
   "metadata": {
    "collapsed": false
   }
  },
  {
   "cell_type": "code",
   "execution_count": null,
   "outputs": [],
   "source": [
    "od_in_out_ny.head()"
   ],
   "metadata": {
    "collapsed": false
   }
  },
  {
   "cell_type": "code",
   "execution_count": null,
   "outputs": [],
   "source": [
    "temp = od_in_out_ny.loc[:,['work','home','S000']]\n",
    "    #.groupby(['work']).sum()\n",
    "od_final = temp.groupby(['work','home']).sum()"
   ],
   "metadata": {
    "collapsed": false
   }
  },
  {
   "cell_type": "code",
   "execution_count": null,
   "outputs": [],
   "source": [
    "od_final.head()"
   ],
   "metadata": {
    "collapsed": false
   }
  },
  {
   "cell_type": "code",
   "execution_count": null,
   "outputs": [],
   "source": [
    "od_final"
   ],
   "metadata": {
    "collapsed": false
   }
  },
  {
   "cell_type": "code",
   "execution_count": null,
   "metadata": {},
   "outputs": [],
   "source": [
    "len(od_final)"
   ]
  },
  {
   "cell_type": "code",
   "execution_count": null,
   "metadata": {},
   "outputs": [],
   "source": [
    "od_final.reset_index().to_csv('erie-tract-od.csv',index=False)"
   ]
  },
  {
   "cell_type": "code",
   "execution_count": null,
   "metadata": {},
   "outputs": [],
   "source": [
    "od_final.reset_index().to_csv('test.csv',index=False)"
   ]
  },
  {
   "cell_type": "markdown",
   "source": [
    "### Commute Flow County"
   ],
   "metadata": {
    "collapsed": false
   }
  },
  {
   "cell_type": "code",
   "execution_count": null,
   "outputs": [],
   "source": [
    "import pandas as pd\n",
    "import geopandas as gpd\n",
    "census = gpd.read_file('data/Erie_County_Census_Tract.shp')\n",
    "census.head()"
   ],
   "metadata": {
    "collapsed": false
   }
  },
  {
   "cell_type": "code",
   "execution_count": null,
   "outputs": [],
   "source": [
    "# CREATE TRACT LEVEL O-D PAIRS\n",
    "work_home_in_ny = pd.read_csv('data/ny_od_main_JT00_2019.csv').iloc[:,0:6]\n",
    "len(work_home_in_ny)\n",
    "#GEOID: state(2)-county(3)-tract(6): e.g. 09-001-030300\n",
    "#census = gpd.read_file('../nWMDmap2/censusclip1.shp').set_index('GEOID10') #demographic profiles\n",
    "#read_workflow = partial(pd.read_csv,usecols=range(6),dtype={0:str,1:str})\\\n",
    "#read in data"
   ],
   "metadata": {
    "collapsed": false
   }
  },
  {
   "cell_type": "code",
   "execution_count": null,
   "outputs": [],
   "source": [
    "        #.head()\n",
    "od_in_ny = work_home_in_ny[(work_home_in_ny.work.isin(census.GEOID10))]\n",
    "print(len(od_in_ny))"
   ],
   "metadata": {
    "collapsed": false
   }
  }
 ],
 "metadata": {
  "kernelspec": {
   "display_name": "Python 3 (ipykernel)",
   "language": "python",
   "name": "python3"
  },
  "language_info": {
   "codemirror_mode": {
    "name": "ipython",
    "version": 3
   },
   "file_extension": ".py",
   "mimetype": "text/x-python",
   "name": "python",
   "nbconvert_exporter": "python",
   "pygments_lexer": "ipython3",
   "version": "3.9.7"
  }
 },
 "nbformat": 4,
 "nbformat_minor": 4
}
