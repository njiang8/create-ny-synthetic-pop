{
 "cells": [
  {
   "cell_type": "markdown",
   "metadata": {},
   "source": [
    "# Step 2:\n",
    "# Create Unique School and Daycare IDs and Assign Kids to Schools and Daycares\n",
    "\n",
    "* Kids with age [0-3] go to Daycares\n",
    "* Kids with age [4-11] go to Elementry school\n",
    "* Kids with age [12-13] go to Middle school\n",
    "* Kids with age [14-17] go to High school"
   ]
  },
  {
   "cell_type": "code",
   "execution_count": null,
   "metadata": {},
   "outputs": [],
   "source": [
    "import geopandas as gpd\n",
    "import pandas as pd\n",
    "import numpy as np\n",
    "import random\n",
    "import timeit\n",
    "#from shapely.ops import cascaded_union\n",
    "import multiprocessing\n",
    "from math import sin, cos, sqrt, atan2, radians"
   ]
  },
  {
   "cell_type": "markdown",
   "metadata": {
    "tags": []
   },
   "source": [
    "## 1, Load Data"
   ]
  },
  {
   "cell_type": "code",
   "execution_count": null,
   "metadata": {},
   "outputs": [],
   "source": [
    "#Census Treact Boundary\n",
    "#only read two columns\n",
    "tract = gpd.read_file('data/Erie_Tract_WGS84.shp')#.loc[:,['GEOID10','geometry']]\n",
    "tract.head()"
   ]
  },
  {
   "cell_type": "code",
   "execution_count": null,
   "metadata": {},
   "outputs": [],
   "source": [
    "#Population (results from Step 1)\n",
    "pop = pd.read_csv('results/erie_population.csv').iloc[:,1:]\n",
    "pop.head()"
   ]
  },
  {
   "cell_type": "code",
   "execution_count": null,
   "metadata": {},
   "outputs": [],
   "source": [
    "pop.shape"
   ]
  },
  {
   "cell_type": "code",
   "execution_count": null,
   "metadata": {},
   "outputs": [],
   "source": [
    "#School\n",
    "school_gdf = gpd.read_file('data/Education_site/schools_NY.shp')\n",
    "school_gdf.head()"
   ]
  },
  {
   "cell_type": "code",
   "execution_count": null,
   "outputs": [],
   "source": [
    "#Read Data\n",
    "#Daycare\n",
    "daycare = gpd.read_file('data/Education_site/Daycare_NY.shp')\n",
    "daycare.head()"
   ],
   "metadata": {
    "collapsed": false
   }
  },
  {
   "cell_type": "markdown",
   "metadata": {},
   "source": [
    "## 2, Data Preprocess\n",
    "Assign Unique IDs for Schools and Daycares"
   ]
  },
  {
   "cell_type": "markdown",
   "metadata": {},
   "source": [
    "### 2.1 Change to Spatial Data"
   ]
  },
  {
   "cell_type": "code",
   "execution_count": null,
   "metadata": {},
   "outputs": [],
   "source": [
    "# From Geo Panda DataFram, change the data to spatial data\n",
    "def edu_to_gpd(data):\n",
    "    from shapely.geometry import Point\n",
    "    #combine lat and lon column to a shapely Point() object\n",
    "    data['geometry'] = data.apply(lambda x: Point((float(x.LONGITUDE), float(x.LATITUDE))), axis=1)\n",
    "    data = gpd.GeoDataFrame(data, geometry='geometry')\n",
    "    #WGS84 Coordinate System\n",
    "    data.crs = {'init' :'epsg:4326'}\n",
    "    \n",
    "    return data"
   ]
  },
  {
   "cell_type": "code",
   "execution_count": null,
   "metadata": {},
   "outputs": [],
   "source": [
    "#daycare to geo spatial data\n",
    "gdc = to_GPD(daycare)\n",
    "#school\n",
    "gsch = to_GPD(school_gdf)"
   ]
  },
  {
   "cell_type": "code",
   "execution_count": null,
   "outputs": [],
   "source": [
    "gdc.head()"
   ],
   "metadata": {
    "collapsed": false
   }
  },
  {
   "cell_type": "code",
   "execution_count": null,
   "metadata": {},
   "outputs": [],
   "source": [
    "gsch.head()"
   ]
  },
  {
   "cell_type": "code",
   "execution_count": null,
   "metadata": {},
   "outputs": [],
   "source": [
    "#gsch.to_file('where you save files')"
   ]
  },
  {
   "cell_type": "markdown",
   "metadata": {},
   "source": [
    "### 2.2 Create Unique ID for Education Site\n",
    "Locate the schools and daycares to assign unique IDs"
   ]
  },
  {
   "cell_type": "code",
   "execution_count": null,
   "metadata": {},
   "outputs": [],
   "source": [
    "#set census crs into wgs84\n",
    "tract.crs = {'init' :'epsg:4326'}"
   ]
  },
  {
   "cell_type": "code",
   "execution_count": null,
   "outputs": [],
   "source": [
    "gsch.crs"
   ],
   "metadata": {
    "collapsed": false
   }
  },
  {
   "cell_type": "code",
   "execution_count": null,
   "outputs": [],
   "source": [
    "gdc.crs"
   ],
   "metadata": {
    "collapsed": false
   }
  },
  {
   "cell_type": "code",
   "execution_count": null,
   "metadata": {},
   "outputs": [],
   "source": [
    "def join_edu_data(data1, data2, col_name, type):\n",
    "    if type == \"School\":\n",
    "        #spatial join\n",
    "        sjdf = gpd.sjoin(data1, data2, how = \"inner\", op = 'intersects')\n",
    "\n",
    "        #Create new column with the valus of census tract ID\n",
    "        #school\n",
    "        sjdf['temp'] = sjdf.apply(lambda x:'%ss' % (x['GEOID10']),axis=1)\n",
    "        #daycare\n",
    "        #sjdf['temp'] = sjdf.apply(lambda x:'%sd' % (x['GEOID10']),axis=1)\n",
    "\n",
    "        #create a column to count the number of education site within the census tract\n",
    "        sjdf['count'] = 0\n",
    "\n",
    "        #group by census tract number\n",
    "        census_group = sjdf.groupby(sjdf['GEOID10'])\n",
    "\n",
    "        #create a dataframe to hold the data\n",
    "        wp = pd.DataFrame()\n",
    "\n",
    "        #loop through each group and get count\n",
    "        for i,j in census_group:\n",
    "            group = pd.DataFrame(j).reset_index().drop('index',axis=1)\n",
    "            for k in range (0,len(group)):\n",
    "                group.loc[k,'count'] = k\n",
    "                #print(group)\n",
    "            #wp = wp.append(group,ignore_index = True)\n",
    "            wp = pd.concat([wp, group])#wp.append(group,ignore_index = True)\n",
    "\n",
    "        wp[col_name] = wp.apply(lambda x:'%s%s' % (x['temp'],x['count']),axis=1)\n",
    "\n",
    "        return wp.reset_index(drop= True)\n",
    "\n",
    "    if (type == \"Daycare\"):\n",
    "                #spatial join\n",
    "        sjdf = gpd.sjoin(data1, data2, how = \"inner\", op = 'intersects')\n",
    "\n",
    "        #Create new column with the valus of census tract ID\n",
    "        #daycare\n",
    "        sjdf['temp'] = sjdf.apply(lambda x:'%sd' % (x['GEOID10']),axis=1)\n",
    "\n",
    "        #create a column to count the number of education site within the census tract\n",
    "        sjdf['count'] = 0\n",
    "\n",
    "        #group by census tract number\n",
    "        census_group = sjdf.groupby(sjdf['GEOID10'])\n",
    "\n",
    "        #create a dataframe to hold the data\n",
    "        wp = pd.DataFrame()\n",
    "\n",
    "        #loop through each group and get count\n",
    "        for i,j in census_group:\n",
    "            group = pd.DataFrame(j).reset_index().drop('index',axis=1)\n",
    "            for k in range (0,len(group)):\n",
    "                group.loc[k,'count'] = k\n",
    "                #print(group)\n",
    "            #wp = wp.append(group,ignore_index = True)\n",
    "            wp = pd.concat([wp, group])#wp.append(group,ignore_index = True)\n",
    "\n",
    "        wp[col_name] = wp.apply(lambda x:'%s%s' % (x['temp'],x['count']),axis=1)\n",
    "\n",
    "        return wp.reset_index(drop= True)"
   ]
  },
  {
   "cell_type": "markdown",
   "metadata": {},
   "source": [
    "### 2.3 Apply Spatial Join"
   ]
  },
  {
   "cell_type": "code",
   "execution_count": null,
   "metadata": {},
   "outputs": [],
   "source": [
    "#Scchool\n",
    "census = tract.loc[:,['GEOID10','geometry']]\n",
    "sch_df = join_edu_data(gsch, census, \"SchID\", \"School\")\n",
    "sch_df.head()"
   ]
  },
  {
   "cell_type": "code",
   "execution_count": null,
   "metadata": {},
   "outputs": [],
   "source": [
    "sch_df.columns"
   ]
  },
  {
   "cell_type": "code",
   "execution_count": null,
   "metadata": {},
   "outputs": [],
   "source": [
    "sch_df = sch_df.drop(columns=['index_right', 'GEOID10', 'temp', 'count'], axis=0)\n",
    "sch_df['current'] = 0\n",
    "sch_df.head()"
   ]
  },
  {
   "cell_type": "code",
   "execution_count": null,
   "metadata": {},
   "outputs": [],
   "source": [
    "sch_df = to_GPD(sch_df)"
   ]
  },
  {
   "cell_type": "code",
   "execution_count": null,
   "metadata": {},
   "outputs": [],
   "source": [
    "type(sch_df)"
   ]
  },
  {
   "cell_type": "markdown",
   "source": [
    "### Daycare ID"
   ],
   "metadata": {
    "collapsed": false
   }
  },
  {
   "cell_type": "code",
   "execution_count": null,
   "outputs": [],
   "source": [
    "census = tract.loc[:,['GEOID10','geometry']]\n",
    "dc_df = join_edu_data(gdc, census, \"SchID\", \"Daycare\")\n",
    "dc_df.head()"
   ],
   "metadata": {
    "collapsed": false
   }
  },
  {
   "cell_type": "code",
   "execution_count": null,
   "outputs": [],
   "source": [
    "dc_df = dc_df.drop(columns=['index_right', 'GEOID10', 'temp', 'count'], axis=0)\n",
    "dc_df['current'] = 0\n",
    "dc_df.head()"
   ],
   "metadata": {
    "collapsed": false
   }
  },
  {
   "cell_type": "code",
   "execution_count": null,
   "outputs": [],
   "source": [
    "dc_df = dc_df.rename(columns={\"POPULATION\": \"ENROLLMENT\"})\n",
    "dc_df.head()"
   ],
   "metadata": {
    "collapsed": false
   }
  },
  {
   "cell_type": "code",
   "execution_count": null,
   "outputs": [],
   "source": [
    "dc_df = to_GPD(dc_df)\n",
    "dc_df.head()"
   ],
   "metadata": {
    "collapsed": false
   }
  },
  {
   "cell_type": "markdown",
   "metadata": {},
   "source": [
    "## 3, Assign Daycare ID and School ID"
   ]
  },
  {
   "cell_type": "markdown",
   "metadata": {},
   "source": [
    "### 3.1 Function to calculate the great circle distance\n",
    "The reasons why we create this funtion is due the distance function from geopandas package is not giving us the right result. To fix the issue, we create a new distance function.\n",
    "\n",
    "If yours works fine, you don't have to do this."
   ]
  },
  {
   "cell_type": "code",
   "execution_count": null,
   "metadata": {},
   "outputs": [],
   "source": [
    "def new_distance(x1, y1, x2, y2):\n",
    "    # approximate radius of earth in km\n",
    "    R = 6373.0\n",
    "    \n",
    "    lat1 = radians (x1)\n",
    "    long1 = radians (y1)\n",
    "    lat2 = radians(x2)\n",
    "    long2 = radians(y2)\n",
    "    \n",
    "    dlon = long2 - long1\n",
    "    dlat = lat2 - lat1\n",
    "    \n",
    "    a = sin(dlat / 2)**2 + cos(lat1) * cos(lat2) * sin(dlon / 2)**2\n",
    "    c = 2 * atan2(sqrt(a), sqrt(1 - a))\n",
    "\n",
    "    distance = R * c\n",
    "    return distance"
   ]
  },
  {
   "cell_type": "markdown",
   "metadata": {},
   "source": [
    "### 3.2 Assign School and DaycareID function"
   ]
  },
  {
   "cell_type": "code",
   "execution_count": null,
   "outputs": [],
   "source": [
    "#change pop to gpd\n",
    "from src.tools import to_geo_df\n",
    "g_pop = to_geo_df(pop)\n",
    "g_pop.plot()"
   ],
   "metadata": {
    "collapsed": false
   }
  },
  {
   "cell_type": "code",
   "execution_count": null,
   "outputs": [],
   "source": [
    "len(g_pop)"
   ],
   "metadata": {
    "collapsed": false
   }
  },
  {
   "cell_type": "code",
   "execution_count": null,
   "outputs": [],
   "source": [
    "g_pop.plot()"
   ],
   "metadata": {
    "collapsed": false
   }
  },
  {
   "cell_type": "code",
   "execution_count": null,
   "metadata": {},
   "outputs": [],
   "source": [
    "census = tract.loc[:,['GEOID10','geometry']].set_index('GEOID10')\n",
    "\n",
    "def assign_school(data, school, daycare):\n",
    "    #indi_buffer = data.geometry.buffer(0.08)\n",
    "    #print(type(indi_buffer))\n",
    "    #Assign edu site based on age\n",
    "    if data.age >= 4 and data.age <= 17:\n",
    "        #print(\"school\")\n",
    "        return find_eduid(data.lat, data.long, data.geometry, school)\n",
    "\n",
    "    elif data.age < 4:\n",
    "        #print(\"daycare\")\n",
    "        return find_eduid(data.lat, data.long, data.geometry, daycare)\n",
    "    else:\n",
    "        return data.wp\n",
    "\n",
    "        #return df_sch_in.iloc[0, 0]"
   ]
  },
  {
   "cell_type": "code",
   "execution_count": null,
   "outputs": [],
   "source": [
    "def find_eduid (x, y, position, edu_site):\n",
    "    buff = position.buffer(0.08)\n",
    "\n",
    "    s_in = edu_site[edu_site.intersects(buff)].copy()\n",
    "    #print(s_in.head())\n",
    "    #print(len(s_in))\n",
    "\n",
    "    #Intersect Road Point Lat list\n",
    "    sx = s_in.loc[:,'LATITUDE'].tolist()\n",
    "    #Intersect Road Point Long list\n",
    "    sy = s_in.loc[:, 'LONGITUDE'].tolist()\n",
    "\n",
    "    #Calculate Distance between the point and intersected road points\n",
    "    dist = [] #distance list\n",
    "    for j in range(0, len(s_in)):\n",
    "        d = new_distance(x, y, sx[j], sy[j])\n",
    "        dist.append(d)\n",
    "\n",
    "    #school ID list\n",
    "    sid = s_in.loc[:,'SchID']\n",
    "\n",
    "    #Create DF to hold the School ID an the their distance to Kids\n",
    "    df_sch_in = pd.DataFrame({'SchID': sid, 'Dist':dist}).sort_values(by='Dist')#.reset_index(drop=True)\n",
    "    #print(\"++++\")\n",
    "    #print(df_sch_in)\n",
    "\n",
    "    sch_AgeDistAccept = [s for s in df_sch_in.index if edu_site.loc[s, 'current'] < edu_site.loc[s, 'ENROLLMENT']]\n",
    "    #print(sch_AgeDistAccept)\n",
    "\n",
    "    if sch_AgeDistAccept != []:\n",
    "        j = sch_AgeDistAccept[0]\n",
    "        #print(df_sch_in.loc[j, 'SchID'])\n",
    "        return df_sch_in.loc[j, 'SchID']\n",
    "    else:\n",
    "        return random.choice(sid)\n",
    "\n",
    "    school.loc[sch_id, 'current'] += 1"
   ],
   "metadata": {
    "collapsed": false
   }
  },
  {
   "cell_type": "code",
   "execution_count": null,
   "outputs": [],
   "source": [
    "test = g_pop[:100].copy()\n",
    "test.age.unique()"
   ],
   "metadata": {
    "collapsed": false
   }
  },
  {
   "cell_type": "code",
   "execution_count": null,
   "outputs": [],
   "source": [
    "#test = g_pop[:20].copy()\n",
    "#test['tract'] = test['hhold'].str[0:11]\n",
    "test['wp'] = test.apply(assign_school, args=(sch_df, dc_df), axis=1)\n",
    "test"
   ],
   "metadata": {
    "collapsed": false
   }
  },
  {
   "cell_type": "code",
   "execution_count": null,
   "outputs": [],
   "source": [
    "test.wp.unique()"
   ],
   "metadata": {
    "collapsed": false
   }
  },
  {
   "cell_type": "markdown",
   "metadata": {},
   "source": [
    "### 3.3 Apply Assign School ID funtion"
   ]
  },
  {
   "cell_type": "code",
   "execution_count": null,
   "metadata": {},
   "outputs": [],
   "source": []
  },
  {
   "cell_type": "code",
   "execution_count": null,
   "outputs": [],
   "source": [
    "print('Start running...')\n",
    "#set timer\n",
    "start_time = timeit.default_timer()\n",
    "g_pop['wp'] = test.apply(assign_school, args=(sch_df, dc_df), axis=1)\n",
    "elapsed = timeit.default_timer() - start_time\n",
    "print(\"Total Time(s):\", elapsed)\n",
    "print('End program')"
   ],
   "metadata": {
    "collapsed": false
   }
  },
  {
   "cell_type": "code",
   "execution_count": null,
   "outputs": [],
   "source": [
    "len(g_pop.wp.unique())"
   ],
   "metadata": {
    "collapsed": false
   }
  },
  {
   "cell_type": "code",
   "execution_count": null,
   "outputs": [],
   "source": [],
   "metadata": {
    "collapsed": false
   }
  }
 ],
 "metadata": {
  "kernelspec": {
   "display_name": "Python 3 (ipykernel)",
   "language": "python",
   "name": "python3"
  },
  "language_info": {
   "codemirror_mode": {
    "name": "ipython",
    "version": 3
   },
   "file_extension": ".py",
   "mimetype": "text/x-python",
   "name": "python",
   "nbconvert_exporter": "python",
   "pygments_lexer": "ipython3",
   "version": "3.9.13"
  }
 },
 "nbformat": 4,
 "nbformat_minor": 4
}
